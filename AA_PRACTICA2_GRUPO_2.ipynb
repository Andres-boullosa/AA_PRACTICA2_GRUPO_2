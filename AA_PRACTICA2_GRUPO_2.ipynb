{
  "nbformat": 4,
  "nbformat_minor": 0,
  "metadata": {
    "accelerator": "GPU",
    "colab": {
      "name": "AA_PRACTICA2_GRUPO_2.ipynb",
      "provenance": [],
      "collapsed_sections": [
        "AXob0xN2ZUxx",
        "A5PBSVuFzMGb",
        "FvC6b_pa2knM",
        "aYXN2iI9zO_R",
        "88BdOhqV231L",
        "AxnvCmPy3bLD",
        "ldfiqfpG3ufu",
        "HSmDeAcD4O4K",
        "0ztlhyNG4psz",
        "WP-gRt9k40Qa",
        "j4LXs0M05n4m",
        "4VskyP6UCEDA",
        "GgLH18KY5SDF",
        "CFj1cTSe5foX",
        "c7FfL9mARjoA"
      ],
      "toc_visible": true,
      "include_colab_link": true
    },
    "kernelspec": {
      "display_name": "Python 3",
      "name": "python3"
    },
    "language_info": {
      "name": "python"
    }
  },
  "cells": [
    {
      "cell_type": "markdown",
      "metadata": {
        "id": "view-in-github",
        "colab_type": "text"
      },
      "source": [
        "<a href=\"https://colab.research.google.com/github/Andres-boullosa/AA_PRACTICA2_GRUPO_2/blob/main/AA_PRACTICA2_GRUPO_2.ipynb\" target=\"_parent\"><img src=\"https://colab.research.google.com/assets/colab-badge.svg\" alt=\"Open In Colab\"/></a>"
      ]
    },
    {
      "cell_type": "markdown",
      "metadata": {
        "id": "lf7z80eAZQfg"
      },
      "source": [
        "* GRUPO 2\n",
        "* Andrés Boullosa García\n",
        "* Cristina Velasco Almirall"
      ]
    },
    {
      "cell_type": "markdown",
      "metadata": {
        "id": "AXob0xN2ZUxx"
      },
      "source": [
        "# 0. Introducción"
      ]
    },
    {
      "cell_type": "markdown",
      "metadata": {
        "id": "Qe7QrSwwZiaQ"
      },
      "source": [
        "Esta práctica consiste en crear un modelo de Red de Neuronas Convolucionales que sea capaz de reconocer y clasificar imágenes de ropa.\n",
        "\n",
        "Las imágenes que utilizaremos provienen del conjunto de datos Fashion-MNIST, que contiene datos de las imágenes de Zalando, una página web de moda online alemana. Contiene 70000 imágenes de baja calidad (28x28 píxeles) en escala de grises en 10 categorías, de las cuales 60000 serán imágenes de entrenamiento y 10000 serán imágenes de test.\n",
        "\n",
        "A lo largo de este documento, definiremos, configuraremos, entrenaremos, evaluaremos y mejoraremos varios modelos que posteriormente utilizaremos para hacer predicciones."
      ]
    },
    {
      "cell_type": "markdown",
      "metadata": {
        "id": "BOfc2SvEZrWu"
      },
      "source": [
        "## Preparaciones necesarias"
      ]
    },
    {
      "cell_type": "markdown",
      "metadata": {
        "id": "rod8CGYDZsHe"
      },
      "source": [
        "### Librerías"
      ]
    },
    {
      "cell_type": "markdown",
      "metadata": {
        "id": "3IwJncmRZwu1"
      },
      "source": [
        "Importamos las librerías que vamos a requerir: TensorFlow y keras. Nos aseguramos de que la versión de TensorFlow sea 2.0.0 o superior. También comprobamos la versión de keras, así como si disponemos de GPU. Como podemos ver, tenemos la versión 2.6.0 tanto de keras como de Tensor Flow, y la GPU está disponible."
      ]
    },
    {
      "cell_type": "code",
      "metadata": {
        "colab": {
          "base_uri": "https://localhost:8080/"
        },
        "id": "zIszxuUVZx4V",
        "outputId": "4b9ef718-1d95-45c9-f554-1c50e422c3c2"
      },
      "source": [
        "%tensorflow_version 2.x\n",
        "import tensorflow as tf\n",
        "from tensorflow import keras\n",
        "\n",
        "# Comprobamos versiones de TF, keras, y si disponemos de GPU\n",
        "print(tf.keras.__version__)\n",
        "print(tf.__version__)\n",
        "print(\"GPU Available:\", tf.config.list_physical_devices('GPU'))"
      ],
      "execution_count": 12,
      "outputs": [
        {
          "output_type": "stream",
          "name": "stdout",
          "text": [
            "2.7.0\n",
            "2.7.0\n",
            "GPU Available: [PhysicalDevice(name='/physical_device:GPU:0', device_type='GPU')]\n"
          ]
        }
      ]
    },
    {
      "cell_type": "markdown",
      "metadata": {
        "id": "ttBDc8wFZ009"
      },
      "source": [
        "### Carga y preparación de los datos"
      ]
    },
    {
      "cell_type": "markdown",
      "metadata": {
        "id": "hB0prdMAZ27W"
      },
      "source": [
        "Descargamos los datos: un dataset que obtenemos de keras llamado fashion_mnist. Como sabemos, es un conjunto de imágenes de ropa de la marca Zalando. Además de imágenes, este dataset contiene lo que llamamos \"labels\". Es decir, cada imagen lleva asociada una etiqueta que dice qué es esa imagen (un pantalón, una camiseta...). Descargamos imágenes y labels tanto de entrenamiento como de test."
      ]
    },
    {
      "cell_type": "code",
      "metadata": {
        "id": "qz0D1pbFZPHo"
      },
      "source": [
        "from keras.datasets import fashion_mnist\n",
        "\n",
        "(train_images, train_labels), (test_images, test_labels) = fashion_mnist.load_data()"
      ],
      "execution_count": 13,
      "outputs": []
    },
    {
      "cell_type": "markdown",
      "metadata": {
        "id": "7CK-2RfYZ5kV"
      },
      "source": [
        "Para ver la forma de los datos, utilizamos la función *shape*. Observamos que tenemos 60000 imagenes de entrenamiento y 10000 de test, todas ellas de 28x28 píxeles."
      ]
    },
    {
      "cell_type": "code",
      "metadata": {
        "colab": {
          "base_uri": "https://localhost:8080/"
        },
        "id": "6OulIF9JZ8kL",
        "outputId": "d44ff23e-4046-47e5-b252-e86176195bce"
      },
      "source": [
        "# Vemos la forma de los datos\n",
        "print(train_images.shape)\n",
        "print(test_images.shape)"
      ],
      "execution_count": 14,
      "outputs": [
        {
          "output_type": "stream",
          "name": "stdout",
          "text": [
            "(60000, 28, 28)\n",
            "(10000, 28, 28)\n"
          ]
        }
      ]
    },
    {
      "cell_type": "markdown",
      "metadata": {
        "id": "ITtWVD7BZ-q9"
      },
      "source": [
        "Transformamos los datos a tensores para que se puedan usar como entrada de nuestros futuros modelos. "
      ]
    },
    {
      "cell_type": "code",
      "metadata": {
        "colab": {
          "base_uri": "https://localhost:8080/"
        },
        "id": "MhkzE_wqZ_D1",
        "outputId": "afabd752-078b-403a-a0d9-c597e020e126"
      },
      "source": [
        "train_images = train_images.reshape((60000, 28, 28, 1))\n",
        "train_images = train_images.astype('float32') / 255\n",
        "train_images.shape"
      ],
      "execution_count": 15,
      "outputs": [
        {
          "output_type": "execute_result",
          "data": {
            "text/plain": [
              "(60000, 28, 28, 1)"
            ]
          },
          "metadata": {},
          "execution_count": 15
        }
      ]
    },
    {
      "cell_type": "code",
      "metadata": {
        "id": "dJhbjGOMaBUN"
      },
      "source": [
        "test_images = test_images.reshape((10000, 28, 28, 1))\n",
        "test_images = test_images.astype('float32') / 255"
      ],
      "execution_count": 16,
      "outputs": []
    },
    {
      "cell_type": "markdown",
      "metadata": {
        "id": "W6-VxMCOaILW"
      },
      "source": [
        "# 1. Construimos y entrenamos los modelos pedidos"
      ]
    },
    {
      "cell_type": "code",
      "metadata": {
        "id": "4dSYkGMxaMTO"
      },
      "source": [
        "# Importamos las librerías necesarias\n",
        "from tensorflow.keras import Sequential\n",
        "from tensorflow.keras.layers import Flatten, Conv2D, MaxPooling2D, Dense\n",
        "from tensorflow.keras.layers import Dropout, BatchNormalization\n"
      ],
      "execution_count": 17,
      "outputs": []
    },
    {
      "cell_type": "markdown",
      "metadata": {
        "id": "rsqqSHgQaOxW"
      },
      "source": [
        "Construimos y entrenamos los modelos para ver cuál es mejor, y por lo tanto, cuál deberíamos usar. En total son 5, con dos variaciones del modelo1 (el modelo1_2 y el modelo1_t)."
      ]
    },
    {
      "cell_type": "markdown",
      "metadata": {
        "id": "FjvEzc3czJgc"
      },
      "source": [
        "## Modelo 1"
      ]
    },
    {
      "cell_type": "code",
      "metadata": {
        "colab": {
          "base_uri": "https://localhost:8080/"
        },
        "id": "crwEkVgCahB2",
        "outputId": "63d9b615-a10d-4087-e8bc-4ba6eaf780cf"
      },
      "source": [
        "# Construimos el modelo\n",
        "model1 = Sequential()\n",
        "model1.add(Conv2D(32, (5,5), activation='relu', input_shape=(28, 28, 1)))\n",
        "model1.add(MaxPooling2D((2,2)))\n",
        "model1.add(Conv2D(64, (5,5), activation='relu'))\n",
        "model1.add(MaxPooling2D((2,2)))\n",
        "model1.add(Flatten())\n",
        "model1.add(Dense(10, activation='softmax'))\n",
        "\n",
        "# Compilamos el modelo: utilizamos el optimizador RMSProp y la función de \n",
        "# pérdida categorical_crossentropy.\n",
        "model1.compile(optimizer='sgd', \n",
        "                loss='sparse_categorical_crossentropy',\n",
        "                metrics=['accuracy'])\n",
        "\n",
        "# Entrenamos el modelo\n",
        "model1.fit(train_images, train_labels, epochs=5, batch_size=128)"
      ],
      "execution_count": null,
      "outputs": [
        {
          "output_type": "stream",
          "name": "stdout",
          "text": [
            "Epoch 1/5\n",
            "469/469 [==============================] - 18s 10ms/step - loss: 1.2983 - accuracy: 0.5910\n",
            "Epoch 2/5\n",
            "469/469 [==============================] - 4s 9ms/step - loss: 0.7185 - accuracy: 0.7382\n",
            "Epoch 3/5\n",
            "469/469 [==============================] - 4s 9ms/step - loss: 0.6251 - accuracy: 0.7722\n",
            "Epoch 4/5\n",
            "469/469 [==============================] - 4s 9ms/step - loss: 0.5677 - accuracy: 0.7925\n",
            "Epoch 5/5\n",
            "469/469 [==============================] - 4s 9ms/step - loss: 0.5311 - accuracy: 0.8087\n"
          ]
        },
        {
          "output_type": "execute_result",
          "data": {
            "text/plain": [
              "<keras.callbacks.History at 0x7fb9be8cf550>"
            ]
          },
          "metadata": {},
          "execution_count": 7
        }
      ]
    },
    {
      "cell_type": "markdown",
      "metadata": {
        "id": "A5PBSVuFzMGb"
      },
      "source": [
        "## Modelo 1_2"
      ]
    },
    {
      "cell_type": "code",
      "metadata": {
        "colab": {
          "base_uri": "https://localhost:8080/"
        },
        "id": "8MdALMBp5wom",
        "outputId": "dea2a2a7-68e5-4995-fdc4-883a19071e27"
      },
      "source": [
        "# Construimos el modelo\n",
        "model1_2 = Sequential()\n",
        "model1_2.add(Conv2D(32, (5,5), activation='relu', input_shape=(28, 28, 1)))\n",
        "model1_2.add(MaxPooling2D((2,2)))\n",
        "model1_2.add(Conv2D(64, (5,5), activation='relu'))\n",
        "model1_2.add(MaxPooling2D((2,2)))\n",
        "model1_2.add(Flatten())\n",
        "model1_2.add(Dense(10, activation='softmax'))\n",
        "\n",
        "# Compilamos el modelo: utilizamos el optimizador RMSProp y la función de \n",
        "# pérdida categorical_crossentropy.\n",
        "model1_2.compile(optimizer='sgd', \n",
        "                loss='sparse_categorical_crossentropy',\n",
        "                metrics=['accuracy'])\n",
        "\n",
        "# Entrenamos el modelo\n",
        "model1_2.fit(train_images, train_labels, epochs=25, batch_size=128)"
      ],
      "execution_count": null,
      "outputs": [
        {
          "output_type": "stream",
          "name": "stdout",
          "text": [
            "Epoch 1/25\n",
            "469/469 [==============================] - 5s 9ms/step - loss: 1.3000 - accuracy: 0.5776\n",
            "Epoch 2/25\n",
            "469/469 [==============================] - 4s 9ms/step - loss: 0.7141 - accuracy: 0.7406\n",
            "Epoch 3/25\n",
            "469/469 [==============================] - 4s 9ms/step - loss: 0.6258 - accuracy: 0.7730\n",
            "Epoch 4/25\n",
            "469/469 [==============================] - 4s 9ms/step - loss: 0.5728 - accuracy: 0.7937\n",
            "Epoch 5/25\n",
            "469/469 [==============================] - 4s 9ms/step - loss: 0.5346 - accuracy: 0.8071\n",
            "Epoch 6/25\n",
            "469/469 [==============================] - 4s 9ms/step - loss: 0.5059 - accuracy: 0.8193\n",
            "Epoch 7/25\n",
            "469/469 [==============================] - 4s 8ms/step - loss: 0.4824 - accuracy: 0.8290\n",
            "Epoch 8/25\n",
            "469/469 [==============================] - 4s 8ms/step - loss: 0.4632 - accuracy: 0.8353\n",
            "Epoch 9/25\n",
            "469/469 [==============================] - 4s 8ms/step - loss: 0.4489 - accuracy: 0.8410\n",
            "Epoch 10/25\n",
            "469/469 [==============================] - 4s 8ms/step - loss: 0.4348 - accuracy: 0.8477\n",
            "Epoch 11/25\n",
            "469/469 [==============================] - 4s 8ms/step - loss: 0.4233 - accuracy: 0.8508\n",
            "Epoch 12/25\n",
            "469/469 [==============================] - 4s 8ms/step - loss: 0.4125 - accuracy: 0.8546\n",
            "Epoch 13/25\n",
            "469/469 [==============================] - 4s 8ms/step - loss: 0.4046 - accuracy: 0.8572\n",
            "Epoch 14/25\n",
            "469/469 [==============================] - 4s 8ms/step - loss: 0.3977 - accuracy: 0.8601\n",
            "Epoch 15/25\n",
            "469/469 [==============================] - 4s 8ms/step - loss: 0.3882 - accuracy: 0.8636\n",
            "Epoch 16/25\n",
            "469/469 [==============================] - 4s 8ms/step - loss: 0.3828 - accuracy: 0.8648\n",
            "Epoch 17/25\n",
            "469/469 [==============================] - 4s 8ms/step - loss: 0.3787 - accuracy: 0.8652\n",
            "Epoch 18/25\n",
            "469/469 [==============================] - 4s 9ms/step - loss: 0.3726 - accuracy: 0.8679\n",
            "Epoch 19/25\n",
            "469/469 [==============================] - 4s 9ms/step - loss: 0.3676 - accuracy: 0.8706\n",
            "Epoch 20/25\n",
            "469/469 [==============================] - 4s 9ms/step - loss: 0.3630 - accuracy: 0.8712\n",
            "Epoch 21/25\n",
            "469/469 [==============================] - 4s 9ms/step - loss: 0.3584 - accuracy: 0.8730\n",
            "Epoch 22/25\n",
            "469/469 [==============================] - 4s 9ms/step - loss: 0.3558 - accuracy: 0.8733\n",
            "Epoch 23/25\n",
            "469/469 [==============================] - 4s 9ms/step - loss: 0.3510 - accuracy: 0.8751\n",
            "Epoch 24/25\n",
            "469/469 [==============================] - 4s 9ms/step - loss: 0.3484 - accuracy: 0.8769\n",
            "Epoch 25/25\n",
            "469/469 [==============================] - 4s 9ms/step - loss: 0.3453 - accuracy: 0.8785\n"
          ]
        },
        {
          "output_type": "execute_result",
          "data": {
            "text/plain": [
              "<keras.callbacks.History at 0x7fb9bcf573d0>"
            ]
          },
          "metadata": {},
          "execution_count": 8
        }
      ]
    },
    {
      "cell_type": "markdown",
      "metadata": {
        "id": "FvC6b_pa2knM"
      },
      "source": [
        "## Modelo 1_t"
      ]
    },
    {
      "cell_type": "code",
      "metadata": {
        "colab": {
          "base_uri": "https://localhost:8080/"
        },
        "id": "4aZSSBGc54_-",
        "outputId": "55565af4-438a-412f-a8b1-c43c6f134625"
      },
      "source": [
        "# Construimos el modelo\n",
        "model1_t = Sequential()\n",
        "model1_t.add(Conv2D(32, (5,5), activation='tanh', input_shape=(28, 28, 1)))\n",
        "model1_t.add(MaxPooling2D((2,2)))\n",
        "model1_t.add(Conv2D(64, (5,5), activation='tanh'))\n",
        "model1_t.add(MaxPooling2D((2,2)))\n",
        "model1_t.add(Flatten())\n",
        "model1_t.add(Dense(10, activation='softmax'))\n",
        "\n",
        "# Compilamos el modelo: utilizamos el optimizador RMSProp y la función de \n",
        "# pérdida categorical_crossentropy.\n",
        "model1_t.compile(optimizer='sgd', \n",
        "                loss='sparse_categorical_crossentropy',\n",
        "                metrics=['accuracy'])\n",
        "\n",
        "# Entrenamos el modelo\n",
        "model1_t.fit(train_images, train_labels, epochs=5, batch_size=128)"
      ],
      "execution_count": null,
      "outputs": [
        {
          "output_type": "stream",
          "name": "stdout",
          "text": [
            "Epoch 1/5\n",
            "469/469 [==============================] - 5s 9ms/step - loss: 1.2170 - accuracy: 0.6123\n",
            "Epoch 2/5\n",
            "469/469 [==============================] - 4s 9ms/step - loss: 0.7038 - accuracy: 0.7450\n",
            "Epoch 3/5\n",
            "469/469 [==============================] - 4s 9ms/step - loss: 0.6178 - accuracy: 0.7716\n",
            "Epoch 4/5\n",
            "469/469 [==============================] - 4s 10ms/step - loss: 0.5686 - accuracy: 0.7901\n",
            "Epoch 5/5\n",
            "469/469 [==============================] - 5s 10ms/step - loss: 0.5341 - accuracy: 0.8054\n"
          ]
        },
        {
          "output_type": "execute_result",
          "data": {
            "text/plain": [
              "<keras.callbacks.History at 0x7fb9be7235d0>"
            ]
          },
          "metadata": {},
          "execution_count": 9
        }
      ]
    },
    {
      "cell_type": "markdown",
      "metadata": {
        "id": "aYXN2iI9zO_R"
      },
      "source": [
        "## Modelo 2"
      ]
    },
    {
      "cell_type": "code",
      "metadata": {
        "id": "6bVchmpZzty0",
        "colab": {
          "base_uri": "https://localhost:8080/"
        },
        "outputId": "c5e42839-a0fd-498b-d0ff-921de54c9fd6"
      },
      "source": [
        "# Construimos el modelo2\n",
        "model2 = Sequential()\n",
        "model2.add(Conv2D(64, (7,7), activation='relu', input_shape=(28, 28, 1)))\n",
        "model2.add(MaxPooling2D((2,2)))\n",
        "model2.add(Conv2D(128, (3,3), activation='relu'))\n",
        "model2.add(MaxPooling2D((2,2)))\n",
        "model2.add(Flatten())\n",
        "model2.add(Dense(65, activation='relu'))\n",
        "model2.add(Dense(10, activation='softmax'))\n",
        "\n",
        "# Compilamos el modelo: utilizamos el optimizador RMSProp y la función de \n",
        "# pérdida categorical_crossentropy.\n",
        "model2.compile(optimizer='sgd', \n",
        "                loss='sparse_categorical_crossentropy',\n",
        "                metrics=['accuracy'])\n",
        "\n",
        "# Entrenamos el modelo\n",
        "model2.fit(train_images, train_labels, epochs=5, batch_size=128)"
      ],
      "execution_count": null,
      "outputs": [
        {
          "output_type": "stream",
          "name": "stdout",
          "text": [
            "Epoch 1/5\n",
            "469/469 [==============================] - 6s 12ms/step - loss: 1.3555 - accuracy: 0.5419\n",
            "Epoch 2/5\n",
            "469/469 [==============================] - 5s 11ms/step - loss: 0.7925 - accuracy: 0.7076\n",
            "Epoch 3/5\n",
            "469/469 [==============================] - 5s 11ms/step - loss: 0.6994 - accuracy: 0.7387\n",
            "Epoch 4/5\n",
            "469/469 [==============================] - 5s 12ms/step - loss: 0.6422 - accuracy: 0.7600\n",
            "Epoch 5/5\n",
            "469/469 [==============================] - 5s 12ms/step - loss: 0.6022 - accuracy: 0.7749\n"
          ]
        },
        {
          "output_type": "execute_result",
          "data": {
            "text/plain": [
              "<keras.callbacks.History at 0x7fb9be62ee50>"
            ]
          },
          "metadata": {},
          "execution_count": 10
        }
      ]
    },
    {
      "cell_type": "markdown",
      "metadata": {
        "id": "KK3lu_0IzQWp"
      },
      "source": [
        "## Modelo 3"
      ]
    },
    {
      "cell_type": "code",
      "metadata": {
        "id": "0f-jyu3G07ym",
        "colab": {
          "base_uri": "https://localhost:8080/"
        },
        "outputId": "70bc0b0d-5c82-4f69-8c47-51daf555fda5"
      },
      "source": [
        "model3 = Sequential()\n",
        "model3.add(Conv2D(64,(7,7), activation='relu', input_shape=(28,28,1)))\n",
        "model3.add(MaxPooling2D((2,2)))\n",
        "model3.add(Conv2D(128,(3,3),activation='relu'))\n",
        "model3.add(MaxPooling2D((2,2)))\n",
        "model3.add(Flatten())\n",
        "model3.add(Dense(65, activation='relu'))\n",
        "model3.add(Dense(10, activation='softmax'))\n",
        "\n",
        "# Compilamos el modelo: utilizamos el optimizador RMSProp y la función de \n",
        "# pérdida categorical_crossentropy.\n",
        "model3.compile(optimizer='adam', \n",
        "                loss='sparse_categorical_crossentropy',\n",
        "                metrics=['accuracy'])\n",
        "\n",
        "# Entrenamos el modelo\n",
        "model3.fit(train_images, train_labels, epochs=5, batch_size=128)"
      ],
      "execution_count": null,
      "outputs": [
        {
          "output_type": "stream",
          "name": "stdout",
          "text": [
            "Epoch 1/5\n",
            "469/469 [==============================] - 6s 12ms/step - loss: 0.5820 - accuracy: 0.7881\n",
            "Epoch 2/5\n",
            "469/469 [==============================] - 6s 12ms/step - loss: 0.3746 - accuracy: 0.8639\n",
            "Epoch 3/5\n",
            "469/469 [==============================] - 6s 12ms/step - loss: 0.3276 - accuracy: 0.8810\n",
            "Epoch 4/5\n",
            "469/469 [==============================] - 6s 12ms/step - loss: 0.2933 - accuracy: 0.8924\n",
            "Epoch 5/5\n",
            "469/469 [==============================] - 6s 12ms/step - loss: 0.2707 - accuracy: 0.8999\n"
          ]
        },
        {
          "output_type": "execute_result",
          "data": {
            "text/plain": [
              "<keras.callbacks.History at 0x7fb9be4f4290>"
            ]
          },
          "metadata": {},
          "execution_count": 11
        }
      ]
    },
    {
      "cell_type": "markdown",
      "metadata": {
        "id": "88BdOhqV231L"
      },
      "source": [
        "# 2. Explicamos la salida de la llamada a summary"
      ]
    },
    {
      "cell_type": "markdown",
      "metadata": {
        "id": "AvW9UFNs3Bsz"
      },
      "source": [
        "Utilizamos la función *summary* para tener un resumen de cada uno de nuestros modelos. El resumen incluye la siguiente información:\n",
        "\n",
        "\n",
        "1.   Las capas (*layer*) y su orden en el modelo.\n",
        "2.   La forma del output (*output shape*) y su orden en el modelo.\n",
        "3.   El número de parámetros (*param*, los pesos que tiene) en cada capa. \n",
        "4.   El número total de parámetros (*total params*) en el modelo.\n"
      ]
    },
    {
      "cell_type": "code",
      "metadata": {
        "id": "wDQeYvPF3IF7",
        "colab": {
          "base_uri": "https://localhost:8080/"
        },
        "outputId": "a72464be-9288-4d3e-93c1-e770eff24e5f"
      },
      "source": [
        "print('Modelo 1:')\n",
        "model1.summary()"
      ],
      "execution_count": null,
      "outputs": [
        {
          "output_type": "stream",
          "name": "stdout",
          "text": [
            "Modelo 1:\n",
            "Model: \"sequential\"\n",
            "_________________________________________________________________\n",
            " Layer (type)                Output Shape              Param #   \n",
            "=================================================================\n",
            " conv2d (Conv2D)             (None, 24, 24, 32)        832       \n",
            "                                                                 \n",
            " max_pooling2d (MaxPooling2D  (None, 12, 12, 32)       0         \n",
            " )                                                               \n",
            "                                                                 \n",
            " conv2d_1 (Conv2D)           (None, 8, 8, 64)          51264     \n",
            "                                                                 \n",
            " max_pooling2d_1 (MaxPooling  (None, 4, 4, 64)         0         \n",
            " 2D)                                                             \n",
            "                                                                 \n",
            " flatten (Flatten)           (None, 1024)              0         \n",
            "                                                                 \n",
            " dense (Dense)               (None, 10)                10250     \n",
            "                                                                 \n",
            "=================================================================\n",
            "Total params: 62,346\n",
            "Trainable params: 62,346\n",
            "Non-trainable params: 0\n",
            "_________________________________________________________________\n"
          ]
        }
      ]
    },
    {
      "cell_type": "code",
      "metadata": {
        "colab": {
          "base_uri": "https://localhost:8080/"
        },
        "id": "6OcbrtTUznmE",
        "outputId": "feab67ae-f718-4765-b264-d81bc6264dfc"
      },
      "source": [
        "print('Modelo 2:')\n",
        "model2.summary()"
      ],
      "execution_count": null,
      "outputs": [
        {
          "output_type": "stream",
          "name": "stdout",
          "text": [
            "Modelo 2:\n",
            "Model: \"sequential_3\"\n",
            "_________________________________________________________________\n",
            " Layer (type)                Output Shape              Param #   \n",
            "=================================================================\n",
            " conv2d_6 (Conv2D)           (None, 22, 22, 64)        3200      \n",
            "                                                                 \n",
            " max_pooling2d_6 (MaxPooling  (None, 11, 11, 64)       0         \n",
            " 2D)                                                             \n",
            "                                                                 \n",
            " conv2d_7 (Conv2D)           (None, 9, 9, 128)         73856     \n",
            "                                                                 \n",
            " max_pooling2d_7 (MaxPooling  (None, 4, 4, 128)        0         \n",
            " 2D)                                                             \n",
            "                                                                 \n",
            " flatten_3 (Flatten)         (None, 2048)              0         \n",
            "                                                                 \n",
            " dense_3 (Dense)             (None, 65)                133185    \n",
            "                                                                 \n",
            " dense_4 (Dense)             (None, 10)                660       \n",
            "                                                                 \n",
            "=================================================================\n",
            "Total params: 210,901\n",
            "Trainable params: 210,901\n",
            "Non-trainable params: 0\n",
            "_________________________________________________________________\n"
          ]
        }
      ]
    },
    {
      "cell_type": "code",
      "metadata": {
        "colab": {
          "base_uri": "https://localhost:8080/"
        },
        "id": "3GDn7NO3zqiW",
        "outputId": "686d677e-af2e-4788-b5c0-8a0bd56150b4"
      },
      "source": [
        "print('Model 3:')\n",
        "model3.summary()"
      ],
      "execution_count": null,
      "outputs": [
        {
          "output_type": "stream",
          "name": "stdout",
          "text": [
            "Model 3:\n",
            "Model: \"sequential_4\"\n",
            "_________________________________________________________________\n",
            " Layer (type)                Output Shape              Param #   \n",
            "=================================================================\n",
            " conv2d_8 (Conv2D)           (None, 22, 22, 64)        3200      \n",
            "                                                                 \n",
            " max_pooling2d_8 (MaxPooling  (None, 11, 11, 64)       0         \n",
            " 2D)                                                             \n",
            "                                                                 \n",
            " conv2d_9 (Conv2D)           (None, 9, 9, 128)         73856     \n",
            "                                                                 \n",
            " max_pooling2d_9 (MaxPooling  (None, 4, 4, 128)        0         \n",
            " 2D)                                                             \n",
            "                                                                 \n",
            " flatten_4 (Flatten)         (None, 2048)              0         \n",
            "                                                                 \n",
            " dense_5 (Dense)             (None, 65)                133185    \n",
            "                                                                 \n",
            " dense_6 (Dense)             (None, 10)                660       \n",
            "                                                                 \n",
            "=================================================================\n",
            "Total params: 210,901\n",
            "Trainable params: 210,901\n",
            "Non-trainable params: 0\n",
            "_________________________________________________________________\n"
          ]
        }
      ]
    },
    {
      "cell_type": "markdown",
      "metadata": {
        "id": "WCXGIIF4fVNi"
      },
      "source": [
        "\n",
        "\n",
        "---\n",
        "\n"
      ]
    },
    {
      "cell_type": "markdown",
      "metadata": {
        "id": "PK8db9WVrNXg"
      },
      "source": [
        "1. Vemos que el modelo 1 tiene 6 capas (*layers*): dos Conv2D, dos MaxPooling2D, una Flatten y una Dense. \n",
        "El modelo 2 tiene 7 capas: dos Conv 2D, dos MaxPooling2D, una Flatten y dos Dense. \n",
        "El modelo 3 también tiene 7 capas, iguales que las del modelo 2.\n",
        "\n",
        "2. En todos los modelos, las primeras cuatro capas, tienen un *output shape* de (None, x, x, x), siendo x números que varían según la capa. Los primeros dos números son las dimensiones de las imágenes, que se van haciendo más pequeñas debido a la convolución, y el siguiente número es de los filtros. \n",
        "Las últimas tres capas (dos en el caso del primer modelo), tienen solamente un número. Esto es debido a que la capa Flatten aplana la capa anterior, por lo que, por ejemplo, pasa de tener forma (None, 4, 4, 64) a (None, 4x4x64), es decir (None, 1024). \n",
        "En la última, (None, 10), el 10 sale de las 10 categorías en las que queremos clasificar las imágenes.\n",
        "\n",
        "3. El número de parámetros sale de la siguiente fórmula: \n",
        "(TAMAÑO DE LA VENTANA (nxn) x NÚMERO DE FILTROS QUE ENTRAN + STRIDE) x NÚMERO DE FILTROS NUEVOS. \n",
        "En el caso de la primera capa, el número de filtros que entran es 1.  \n",
        "La capa MaxPooling2D tiene 0 parámetros ya que al ser conocida la operación que realiza (coger el máximo de la ventana) no necesitamos que la red neuronal la aprenda. La capa Flatten cambia la disposición de las capas, por lo que tampoco necesita parámetros.\n",
        "\n",
        "4. El número total de parámetros del modelo 1 es 62346, y 210901 en el caso del modelo 2 y 3, de los cuales el 100% son entrenables."
      ]
    },
    {
      "cell_type": "markdown",
      "metadata": {
        "id": "AxnvCmPy3bLD"
      },
      "source": [
        "# 3. Análisis del model1 frente a model1_2"
      ]
    },
    {
      "cell_type": "code",
      "metadata": {
        "id": "20xK80ww-c5h",
        "colab": {
          "base_uri": "https://localhost:8080/"
        },
        "outputId": "35fc145d-c258-492e-9f87-d40345c9701a"
      },
      "source": [
        "print('Modelo 1:')\n",
        "model1.evaluate(test_images, test_labels)\n",
        "\n",
        "print('Modelo 1_2:')\n",
        "model1_2.evaluate(test_images, test_labels)"
      ],
      "execution_count": null,
      "outputs": [
        {
          "output_type": "stream",
          "name": "stdout",
          "text": [
            "Modelo 1:\n",
            "313/313 [==============================] - 2s 4ms/step - loss: 0.5339 - accuracy: 0.8104\n",
            "Modelo 1_2:\n",
            "313/313 [==============================] - 2s 4ms/step - loss: 0.3746 - accuracy: 0.8678\n"
          ]
        },
        {
          "output_type": "execute_result",
          "data": {
            "text/plain": [
              "[0.3745921850204468, 0.8677999973297119]"
            ]
          },
          "metadata": {},
          "execution_count": 15
        }
      ]
    },
    {
      "cell_type": "markdown",
      "metadata": {
        "id": "5J63EX-I-1NH"
      },
      "source": [
        "Al enfrentar los modelos 1 y 1_2 con las imágenes de test, podemos ver que el modelo1 tiene una pérdida (*loss*) de 0.55 y una precisión (*accuracy*) de 0.8.\n",
        "\n",
        "Sin embargo, el modelo1_2 tiene una pérdida menor, de 0.41 y una precisión mayor, de 0.856. \n",
        "\n",
        "Observamos que al aumentar el número de épocas (*epoch*) de 5 a 25, el modelo mejora bastante sin sufrir sobreentrenamiento. "
      ]
    },
    {
      "cell_type": "markdown",
      "metadata": {
        "id": "ldfiqfpG3ufu"
      },
      "source": [
        "#4. Análisis del model1 frente a model1_t"
      ]
    },
    {
      "cell_type": "code",
      "metadata": {
        "id": "9dp55fUu-2-X",
        "colab": {
          "base_uri": "https://localhost:8080/"
        },
        "outputId": "c4742661-9a36-4954-83c7-ba26fc04972d"
      },
      "source": [
        "print('Modelo 1:')\n",
        "model1.evaluate(test_images, test_labels)\n",
        "\n",
        "print('Modelo 1_t:')\n",
        "model1_t.evaluate(test_images, test_labels)"
      ],
      "execution_count": null,
      "outputs": [
        {
          "output_type": "stream",
          "name": "stdout",
          "text": [
            "Modelo 1:\n",
            "313/313 [==============================] - 1s 4ms/step - loss: 0.5339 - accuracy: 0.8104\n",
            "Modelo 1_t:\n",
            "313/313 [==============================] - 2s 5ms/step - loss: 0.5410 - accuracy: 0.8033\n"
          ]
        },
        {
          "output_type": "execute_result",
          "data": {
            "text/plain": [
              "[0.5409786105155945, 0.8033000230789185]"
            ]
          },
          "metadata": {},
          "execution_count": 16
        }
      ]
    },
    {
      "cell_type": "markdown",
      "metadata": {
        "id": "wOnudfFv-3En"
      },
      "source": [
        "Sin embargo, al comparar el modelo1 con el modelo1_t, vemos que sus pérdidas (*loss*) no son muy diferentes (ambas están alrededor de 0.55) y su precisión (*accuracy*) tampoco (ambas alrededor de 0.8). \n",
        "\n",
        "Es decir, cambiar la función de activación de las dos capas convolucionales de *ReLU* a *tanh* manteniendo el número de épocas (*epoch*), no ha hecho que el modelo mejore. "
      ]
    },
    {
      "cell_type": "markdown",
      "metadata": {
        "id": "HSmDeAcD4O4K"
      },
      "source": [
        "#5. Evaluación de los 3 modelos comparando el rendimiento en los datos de prueba"
      ]
    },
    {
      "cell_type": "code",
      "metadata": {
        "id": "Qj5XREWW_Kid",
        "colab": {
          "base_uri": "https://localhost:8080/"
        },
        "outputId": "440a24d3-00d2-4b7f-af2d-7db0d0f8cc82"
      },
      "source": [
        "print('Modelo 1:')\n",
        "model1.evaluate(test_images, test_labels)\n",
        "\n",
        "print('Modelo 2:')\n",
        "model2.evaluate(test_images, test_labels)\n",
        "\n",
        "print('Modelo 3:')\n",
        "model3.evaluate(test_images, test_labels)"
      ],
      "execution_count": null,
      "outputs": [
        {
          "output_type": "stream",
          "name": "stdout",
          "text": [
            "Modelo 1:\n",
            "313/313 [==============================] - 1s 4ms/step - loss: 0.5339 - accuracy: 0.8104\n",
            "Modelo 2:\n",
            "313/313 [==============================] - 2s 5ms/step - loss: 0.5984 - accuracy: 0.7759\n",
            "Modelo 3:\n",
            "313/313 [==============================] - 2s 5ms/step - loss: 0.3174 - accuracy: 0.8859\n"
          ]
        },
        {
          "output_type": "execute_result",
          "data": {
            "text/plain": [
              "[0.317363977432251, 0.8859000205993652]"
            ]
          },
          "metadata": {},
          "execution_count": 17
        }
      ]
    },
    {
      "cell_type": "markdown",
      "metadata": {
        "id": "lSHrg32E_yQS"
      },
      "source": [
        "Al evaluar los modelos 1, 2 y 3 con los datos de prueba, podemos observar que el modelo 1 y 2 obtienen valores de pérdida (*loss*) y precisión (*accuracy*) muy similares, alrededor de 0.55 y 0.8 respectivamente. \n",
        "\n",
        "Sin embargo, el modelo 3 reduce notablemente la pérdida, pasando de 0.5 en los modelos 1 y 2 a 0.3 en el modelo 3. La precisión también sube, de 0.8 a 0.88.\n",
        "\n",
        "Habiendo analizado los resultados, podemos concluir que el modelo 3 se comporta mejor que los modelos 1 y 2 al evaluarlos con los datos de prueba. "
      ]
    },
    {
      "cell_type": "markdown",
      "metadata": {
        "id": "0ztlhyNG4psz"
      },
      "source": [
        "#6. Predicciones de los 3 modelos en la imagen 6 del conjunto de prueba"
      ]
    },
    {
      "cell_type": "markdown",
      "metadata": {
        "id": "5p3ESRZVJsFy"
      },
      "source": [
        "Predecimos y imprimimos la 6ª imagen para todos los modelos."
      ]
    },
    {
      "cell_type": "code",
      "metadata": {
        "id": "tmTvlVSt_xba",
        "colab": {
          "base_uri": "https://localhost:8080/"
        },
        "outputId": "10e287d7-0574-4f47-dea0-44661c7b8ef0"
      },
      "source": [
        "# Importamos numpy para poder usar argmax\n",
        "import numpy as np\n",
        "\n",
        "# Obtenemos las predicciones para los modelos\n",
        "predictions1 = model1.predict(test_images)\n",
        "predictions2 = model2.predict(test_images)\n",
        "predictions3 = model3.predict(test_images)\n",
        "print('Predición modelo 1:',np.argmax(predictions1[5]))\n",
        "\n",
        "print('Predición modelo 2:',np.argmax(predictions2[5]))\n",
        "\n",
        "print('Predición modelo 3:',np.argmax(predictions3[5]))"
      ],
      "execution_count": null,
      "outputs": [
        {
          "output_type": "stream",
          "name": "stdout",
          "text": [
            "Predición modelo 1: 1\n",
            "Predición modelo 2: 1\n",
            "Predición modelo 3: 1\n"
          ]
        }
      ]
    },
    {
      "cell_type": "markdown",
      "metadata": {
        "id": "cz5O4Ci45neW"
      },
      "source": [
        "Podemos ver que los tres modelos coinciden que la imagen número 6 es la prenda número 1 (pantalones). Todos aciertan."
      ]
    },
    {
      "cell_type": "markdown",
      "metadata": {
        "id": "WP-gRt9k40Qa"
      },
      "source": [
        "#7. Graficamos las primeras 14 imagenes para los 3 modelos"
      ]
    },
    {
      "cell_type": "markdown",
      "metadata": {
        "id": "nFdSe3J4HWCQ"
      },
      "source": [
        "Creamos un vector llamado *class_names* con los nombres de cada clase, es decir, los nombres de las categorías en las que podemos clasificar las prendas de las imágenes."
      ]
    },
    {
      "cell_type": "code",
      "metadata": {
        "id": "YTa_MkXnHWIf"
      },
      "source": [
        "class_names = ['T-shirt/top', 'Trouser', 'Pullover', 'Dress', 'Coat',\n",
        "               'Sandal', 'Shirt', 'Sneaker', 'Bag', 'Ankle boot']"
      ],
      "execution_count": null,
      "outputs": []
    },
    {
      "cell_type": "markdown",
      "metadata": {
        "id": "j4LXs0M05n4m"
      },
      "source": [
        "## Funciones necesarias para graficación"
      ]
    },
    {
      "cell_type": "code",
      "metadata": {
        "id": "i4GKHMA_BHZ6"
      },
      "source": [
        "import matplotlib.pyplot as plt\n",
        "\n",
        "def plot_image(i, predictions_array, true_label, img):\n",
        "  predictions_array, true_label, img = predictions_array[i], true_label[i], img[i]\n",
        "  plt.grid(False)\n",
        "  plt.xticks([])\n",
        "  plt.yticks([])\n",
        "\n",
        "  plt.imshow(img, cmap=plt.cm.binary)\n",
        "\n",
        "  predicted_label = np.argmax(predictions_array)\n",
        "  if predicted_label == true_label:\n",
        "    color = 'blue'\n",
        "  else:\n",
        "    color = 'red'\n",
        "  \n",
        "  plt.xlabel(\"{} {:2.0f}% ({})\".format(class_names[predicted_label],\n",
        "                                100*np.max(predictions_array),\n",
        "                                class_names[true_label]),\n",
        "                                color=color)\n",
        "\n",
        "def plot_value_array(i, predictions_array, true_label):\n",
        "    predictions_array, true_label = predictions_array[i], true_label[i]\n",
        "    plt.grid(False)\n",
        "    plt.xticks(range(10))\n",
        "    plt.yticks([])\n",
        "    thisplot = plt.bar(range(10), predictions_array, color=\"#777777\")\n",
        "    plt.ylim([0, 1])\n",
        "    predicted_label = np.argmax(predictions_array)\n",
        "  \n",
        "    thisplot[predicted_label].set_color('red')\n",
        "    thisplot[true_label].set_color('blue')"
      ],
      "execution_count": null,
      "outputs": []
    },
    {
      "cell_type": "markdown",
      "metadata": {
        "id": "4VskyP6UCEDA"
      },
      "source": [
        " ## Graficación del comportamiento de los modelos\n"
      ]
    },
    {
      "cell_type": "code",
      "metadata": {
        "colab": {
          "base_uri": "https://localhost:8080/",
          "height": 590
        },
        "id": "vCzT6u3bEVZw",
        "outputId": "c130ef02-9953-40e1-e716-7049f8984b1c"
      },
      "source": [
        "# Iniciamos el tamaño de la matriz para imprimir\n",
        "num_rows = 2\n",
        "num_cols = 7\n",
        "num_images = num_rows*num_cols\n",
        "\n",
        "# Cambiamos los datos para que tengan la forma necesaria\n",
        "(train_images, train_labels), (test_images, test_labels) = fashion_mnist.load_data()\n",
        "train_images = train_images.astype('float32') / 255\n",
        "test_images = test_images.astype('float32') / 255\n",
        "\n",
        "# Graficamos el comportamiento del modelo 1\n",
        "print(\"\\nModelo 1:\")\n",
        "plt.figure(figsize=(2*2*num_cols, 2*num_rows))\n",
        "for i in range(num_images):\n",
        "    plt.subplot(num_rows, 2*num_cols, 2*i+1)\n",
        "    plot_image(i, predictions1, test_labels, test_images)\n",
        "    plt.subplot(num_rows, 2*num_cols, 2*i+2)\n",
        "    plot_value_array(i, predictions1, test_labels)\n",
        "plt.show()\n",
        "\n",
        "# Graficamos el comportamiento del modelo 2\n",
        "print(\"\\nModelo 2:\")\n",
        "plt.figure(figsize=(2*2*num_cols, 2*num_rows))\n",
        "for i in range(num_images):\n",
        "    plt.subplot(num_rows, 2*num_cols, 2*i+1)\n",
        "    plot_image(i, predictions2, test_labels, test_images)\n",
        "    plt.subplot(num_rows, 2*num_cols, 2*i+2)\n",
        "    plot_value_array(i, predictions2, test_labels)\n",
        "plt.show()\n",
        "\n",
        "# Graficamos el comportamiento del modelo 3\n",
        "print(\"\\nModelo 3:\")\n",
        "plt.figure(figsize=(2*2*num_cols, 2*num_rows))\n",
        "for i in range(num_images):\n",
        "    plt.subplot(num_rows, 2*num_cols, 2*i+1)\n",
        "    plot_image(i, predictions3, test_labels, test_images)\n",
        "    plt.subplot(num_rows, 2*num_cols, 2*i+2)\n",
        "    plot_value_array(i, predictions3, test_labels)\n",
        "plt.show()"
      ],
      "execution_count": null,
      "outputs": [
        {
          "output_type": "stream",
          "name": "stdout",
          "text": [
            "\n",
            "Modelo 1:\n"
          ]
        },
        {
          "output_type": "display_data",
          "data": {
            "image/png": "[encoded data removed]",
            "text/plain": [
              "<Figure size 2016x288 with 28 Axes>"
            ]
          },
          "metadata": {
            "needs_background": "light"
          }
        },
        {
          "output_type": "stream",
          "name": "stdout",
          "text": [
            "\n",
            "Modelo 2:\n"
          ]
        },
        {
          "output_type": "display_data",
          "data": {
            "image/png": "[encoded data removed]",
            "text/plain": [
              "<Figure size 2016x288 with 28 Axes>"
            ]
          },
          "metadata": {
            "needs_background": "light"
          }
        },
        {
          "output_type": "stream",
          "name": "stdout",
          "text": [
            "\n",
            "Modelo 3:\n"
          ]
        },
        {
          "output_type": "display_data",
          "data": {
            "image/png": "[encoded data removed]",
            "text/plain": [
              "<Figure size 2016x288 with 28 Axes>"
            ]
          },
          "metadata": {
            "needs_background": "light"
          }
        }
      ]
    },
    {
      "cell_type": "markdown",
      "metadata": {
        "id": "CC0FkwMzKiXF"
      },
      "source": [
        "Los modelos 1 y 3, predicen correctamente 13 de las 14 imágenes, mientras que el modelo 2, predice bien 12 de 14. \n",
        "\n",
        "Los tres fallan con la imagen de una zapatilla (*sneaker*), a la que confunden con una sandalia o, en el caso del modelo 2, con una bolsa (*bag*). El modelo 2 también falla en un abrigo (*coat*), que confunde con una camisa (*shirt*).\n",
        "\n",
        "Por lo general, los modelos se comportan de forma correcta con las 14 imágenes seleccionadas, acertando aproximadamente el 90% de las veces. "
      ]
    },
    {
      "cell_type": "markdown",
      "metadata": {
        "id": "GgLH18KY5SDF"
      },
      "source": [
        "#8. Comparativa con resultados de la Práctica 1"
      ]
    },
    {
      "cell_type": "markdown",
      "metadata": {
        "id": "sIqLVl9X5oWO"
      },
      "source": [
        "Para poder comparar con propiedad, recordemos las conclusiones obtenidas en la Práctica 1:\n",
        "\n",
        "Construimos 8 modelos y dos variaciones. El mejor modelo tenía una precisión del 87% y una pérdida de 0.36.\n",
        "\n",
        "Como es lógico, nuestros modelos bajaron la precisión al enfrentarlos con las imagenes de test, equivocándose sobretodo en prendas similares.\n",
        "\n",
        "El mejorar el modelo con la función de optimización *adam* y la función de *pérdida sparse_categorical_crossentropy*, nos permitió obtener unos resultados y valores de precisión y pérdida mejores, destacando sobretodo que no variaban del entrenamiento al testado. \n"
      ]
    },
    {
      "cell_type": "markdown",
      "metadata": {
        "id": "MYHtYMmEPSnB"
      },
      "source": [
        "---\n",
        "\n",
        "\n",
        "En la Práctica 2, el mejor modelo, el modelo 3, tiene una precisión del 89% y \n",
        "una pérdida de 0.29, valores similares aunque ligeramente mejores a los de la primera práctica.\n",
        "\n",
        "Sin embargo, podemos observar que los tres modelos tienen la precisión alrededor del 80% y la pérdida alrededor de 0.55. Todos los modelos se comportan bien, y en todos hemos obtenido buenos resultados, a diferencia de la práctica anterior, en la que teníamos modelos con valores de pérdida y precisión que podían ser muy diferentes entre sí.\n",
        "\n",
        "Los modelos de esta práctica también se confunden con prendas similares, como hemos podido observar, confundiendo *sneaker* con *sandal* o *coat* con *shirt*."
      ]
    },
    {
      "cell_type": "markdown",
      "metadata": {
        "id": "0W_IH6sJ5WUV"
      },
      "source": [
        "#9. BatchNormalization y Dropout"
      ]
    },
    {
      "cell_type": "markdown",
      "metadata": {
        "id": "EMcs0c3NGGTC"
      },
      "source": [
        "Como ya hemos visto anteriormente en clase, las redes neuronales funcionan de mejor manera cuando los datos de los que disponen están en una escala similar. **Batch normalization** no consiste solo en normalizar los datos antes de entrenar los modelos, sino también en hacerlo con las mismas salidas de las funciones. \n",
        "\n",
        "Usualmente, esto permite a las redes neuronales encontrar los patrones más rapido y no quedarse atascadas en ciertos mínimos. Es decir, cuando se utilizan estas capas las redes necesitarán menos épocas para entrenarse. También podrían mejorar las predicciones, aunque no es tan común a menos que los datos sean muy dispersos."
      ]
    },
    {
      "cell_type": "markdown",
      "metadata": {
        "id": "8p6uB_6Ev2Gu"
      },
      "source": [
        "La técnica de **Dropout** consiste en \"bloquear\" un numero aleatorio de neuronas de una capa en cada iteración con el fin de hacer más complicado a la red neuronal el aprender patrones concretos para los datos con los que esta siendo entrenada. Esto consigue que la red se centre en patrones más generales, reduciendo las posibilidades de sobreentrenamiento y por lo tanto generalizando mejor para otros datos.\n",
        "\n",
        "\n",
        "---\n",
        "\n"
      ]
    },
    {
      "cell_type": "markdown",
      "metadata": {
        "id": "O-8nFEehG8xz"
      },
      "source": [
        "A continuación, construiremos el modelo 3 añadiendo estas capas para ver si realmente se aprecian mejoras:"
      ]
    },
    {
      "cell_type": "code",
      "metadata": {
        "colab": {
          "base_uri": "https://localhost:8080/"
        },
        "id": "K4_48ZQ9HGM3",
        "outputId": "5fe41ea6-7056-486e-c19b-a26247c85bcd"
      },
      "source": [
        "# Esta variable es un callback los cuales explicaremos en el siguiente punto\n",
        "from tensorflow.keras.callbacks import EarlyStopping\n",
        "early_stopping = EarlyStopping(\n",
        "    patience=10,\n",
        "    min_delta=0.001,\n",
        "    restore_best_weights=True,\n",
        ")\n",
        "\n",
        "partial_x_train = train_images[:50000]\n",
        "x_val = train_images[50000:]\n",
        "\n",
        "partial_y_train = train_labels[:50000]\n",
        "y_val = train_labels[50000:]\n",
        "\n",
        "model3_2 = Sequential()\n",
        "model3_2.add(Conv2D(64,(7,7), activation='relu', input_shape=(28,28,1)))\n",
        "model3_2.add(MaxPooling2D((2,2)))\n",
        "model3_2.add(Dropout(0.3))\n",
        "model3_2.add(BatchNormalization())\n",
        "model3_2.add(Conv2D(128,(3,3),activation='relu'))\n",
        "model3_2.add(MaxPooling2D((2,2)))\n",
        "model3_2.add(Dropout(0.3))\n",
        "model3_2.add(BatchNormalization())\n",
        "model3_2.add(Flatten())\n",
        "model3_2.add(Dense(128, activation='relu'))\n",
        "model3_2.add(Dropout(0.3))\n",
        "model3_2.add(BatchNormalization())\n",
        "model3_2.add(Dense(10, activation='softmax'))\n",
        "\n",
        "# Compilamos el modelo: utilizamos el optimizador RMSProp y la función de \n",
        "# pérdida categorical_crossentropy.\n",
        "model3_2.compile(optimizer='adam', \n",
        "                loss='sparse_categorical_crossentropy',\n",
        "                metrics=['accuracy'])\n",
        "\n",
        "# Entrenamos el modelo\n",
        "model3_2.fit(partial_x_train, partial_y_train, \n",
        "    validation_data=(x_val, y_val),\n",
        "    batch_size=128,\n",
        "    epochs=100,\n",
        "    callbacks=[early_stopping]\n",
        "    )"
      ],
      "execution_count": 34,
      "outputs": [
        {
          "output_type": "stream",
          "name": "stdout",
          "text": [
            "Epoch 1/100\n",
            "391/391 [==============================] - 7s 14ms/step - loss: 0.5805 - accuracy: 0.7885 - val_loss: 1.3459 - val_accuracy: 0.4981\n",
            "Epoch 2/100\n",
            "391/391 [==============================] - 5s 13ms/step - loss: 0.3967 - accuracy: 0.8521 - val_loss: 0.4085 - val_accuracy: 0.8441\n",
            "Epoch 3/100\n",
            "391/391 [==============================] - 5s 13ms/step - loss: 0.3526 - accuracy: 0.8696 - val_loss: 0.3275 - val_accuracy: 0.8744\n",
            "Epoch 4/100\n",
            "391/391 [==============================] - 5s 14ms/step - loss: 0.3289 - accuracy: 0.8789 - val_loss: 0.3317 - val_accuracy: 0.8735\n",
            "Epoch 5/100\n",
            "391/391 [==============================] - 5s 14ms/step - loss: 0.3091 - accuracy: 0.8848 - val_loss: 0.3361 - val_accuracy: 0.8697\n",
            "Epoch 6/100\n",
            "391/391 [==============================] - 5s 14ms/step - loss: 0.2950 - accuracy: 0.8904 - val_loss: 0.3007 - val_accuracy: 0.8905\n",
            "Epoch 7/100\n",
            "391/391 [==============================] - 5s 13ms/step - loss: 0.2837 - accuracy: 0.8938 - val_loss: 0.3065 - val_accuracy: 0.8779\n",
            "Epoch 8/100\n",
            "391/391 [==============================] - 5s 13ms/step - loss: 0.2721 - accuracy: 0.8980 - val_loss: 0.2758 - val_accuracy: 0.8970\n",
            "Epoch 9/100\n",
            "391/391 [==============================] - 5s 14ms/step - loss: 0.2621 - accuracy: 0.9020 - val_loss: 0.3056 - val_accuracy: 0.8802\n",
            "Epoch 10/100\n",
            "391/391 [==============================] - 6s 14ms/step - loss: 0.2545 - accuracy: 0.9032 - val_loss: 0.2628 - val_accuracy: 0.8993\n",
            "Epoch 11/100\n",
            "391/391 [==============================] - 5s 13ms/step - loss: 0.2461 - accuracy: 0.9062 - val_loss: 0.2685 - val_accuracy: 0.8956\n",
            "Epoch 12/100\n",
            "391/391 [==============================] - 5s 13ms/step - loss: 0.2481 - accuracy: 0.9075 - val_loss: 0.2786 - val_accuracy: 0.8955\n",
            "Epoch 13/100\n",
            "391/391 [==============================] - 5s 13ms/step - loss: 0.2385 - accuracy: 0.9107 - val_loss: 0.2699 - val_accuracy: 0.8920\n",
            "Epoch 14/100\n",
            "391/391 [==============================] - 5s 13ms/step - loss: 0.2315 - accuracy: 0.9121 - val_loss: 0.2520 - val_accuracy: 0.9044\n",
            "Epoch 15/100\n",
            "391/391 [==============================] - 5s 14ms/step - loss: 0.2259 - accuracy: 0.9152 - val_loss: 0.2263 - val_accuracy: 0.9138\n",
            "Epoch 16/100\n",
            "391/391 [==============================] - 5s 13ms/step - loss: 0.2215 - accuracy: 0.9157 - val_loss: 0.2425 - val_accuracy: 0.9116\n",
            "Epoch 17/100\n",
            "391/391 [==============================] - 5s 13ms/step - loss: 0.2203 - accuracy: 0.9158 - val_loss: 0.2294 - val_accuracy: 0.9152\n",
            "Epoch 18/100\n",
            "391/391 [==============================] - 5s 14ms/step - loss: 0.2125 - accuracy: 0.9204 - val_loss: 0.2395 - val_accuracy: 0.9082\n",
            "Epoch 19/100\n",
            "391/391 [==============================] - 5s 13ms/step - loss: 0.2076 - accuracy: 0.9206 - val_loss: 0.2336 - val_accuracy: 0.9137\n",
            "Epoch 20/100\n",
            "391/391 [==============================] - 5s 13ms/step - loss: 0.2083 - accuracy: 0.9209 - val_loss: 0.2721 - val_accuracy: 0.8959\n",
            "Epoch 21/100\n",
            "391/391 [==============================] - 5s 14ms/step - loss: 0.2002 - accuracy: 0.9236 - val_loss: 0.2383 - val_accuracy: 0.9075\n",
            "Epoch 22/100\n",
            "391/391 [==============================] - 5s 13ms/step - loss: 0.1993 - accuracy: 0.9255 - val_loss: 0.2534 - val_accuracy: 0.9112\n",
            "Epoch 23/100\n",
            "391/391 [==============================] - 5s 13ms/step - loss: 0.1967 - accuracy: 0.9258 - val_loss: 0.2506 - val_accuracy: 0.9056\n",
            "Epoch 24/100\n",
            "391/391 [==============================] - 5s 13ms/step - loss: 0.1944 - accuracy: 0.9259 - val_loss: 0.2475 - val_accuracy: 0.9079\n",
            "Epoch 25/100\n",
            "391/391 [==============================] - 6s 14ms/step - loss: 0.1902 - accuracy: 0.9274 - val_loss: 0.2496 - val_accuracy: 0.9100\n"
          ]
        },
        {
          "output_type": "execute_result",
          "data": {
            "text/plain": [
              "<keras.callbacks.History at 0x7f7ed2d070d0>"
            ]
          },
          "metadata": {},
          "execution_count": 34
        }
      ]
    },
    {
      "cell_type": "code",
      "metadata": {
        "colab": {
          "base_uri": "https://localhost:8080/"
        },
        "id": "P6JV9loM6Slh",
        "outputId": "e9186a93-e00f-44b3-e347-f78ef6e4c0b1"
      },
      "source": [
        "#como la paciencia es 10 y ha entrenado 25 epocas la perdida minima en validacion ha sucedido en la epoca 15\n",
        "model3_2.compile(optimizer='adam', \n",
        "                loss='sparse_categorical_crossentropy',\n",
        "                metrics=['accuracy'])\n",
        "\n",
        "model3_2.fit(train_images, train_labels, \n",
        "    batch_size=128,\n",
        "    epochs=15\n",
        "    )\n",
        "\n",
        "model3_2.evaluate(test_images, test_labels)"
      ],
      "execution_count": 35,
      "outputs": [
        {
          "output_type": "stream",
          "name": "stdout",
          "text": [
            "Epoch 1/15\n",
            "469/469 [==============================] - 7s 13ms/step - loss: 0.2354 - accuracy: 0.9118\n",
            "Epoch 2/15\n",
            "469/469 [==============================] - 6s 12ms/step - loss: 0.2297 - accuracy: 0.9128\n",
            "Epoch 3/15\n",
            "469/469 [==============================] - 6s 12ms/step - loss: 0.2268 - accuracy: 0.9140\n",
            "Epoch 4/15\n",
            "469/469 [==============================] - 6s 12ms/step - loss: 0.2176 - accuracy: 0.9180\n",
            "Epoch 5/15\n",
            "469/469 [==============================] - 6s 12ms/step - loss: 0.2138 - accuracy: 0.9201\n",
            "Epoch 6/15\n",
            "469/469 [==============================] - 6s 12ms/step - loss: 0.2127 - accuracy: 0.9193\n",
            "Epoch 7/15\n",
            "469/469 [==============================] - 6s 12ms/step - loss: 0.2070 - accuracy: 0.9231\n",
            "Epoch 8/15\n",
            "469/469 [==============================] - 6s 12ms/step - loss: 0.2064 - accuracy: 0.9215\n",
            "Epoch 9/15\n",
            "469/469 [==============================] - 6s 12ms/step - loss: 0.2048 - accuracy: 0.9214\n",
            "Epoch 10/15\n",
            "469/469 [==============================] - 6s 13ms/step - loss: 0.1974 - accuracy: 0.9239\n",
            "Epoch 11/15\n",
            "469/469 [==============================] - 6s 12ms/step - loss: 0.1945 - accuracy: 0.9267\n",
            "Epoch 12/15\n",
            "469/469 [==============================] - 6s 12ms/step - loss: 0.1908 - accuracy: 0.9272\n",
            "Epoch 13/15\n",
            "469/469 [==============================] - 6s 12ms/step - loss: 0.1884 - accuracy: 0.9291\n",
            "Epoch 14/15\n",
            "469/469 [==============================] - 6s 12ms/step - loss: 0.1884 - accuracy: 0.9291\n",
            "Epoch 15/15\n",
            "469/469 [==============================] - 6s 12ms/step - loss: 0.1826 - accuracy: 0.9304\n",
            "313/313 [==============================] - 1s 4ms/step - loss: 0.2324 - accuracy: 0.9158\n"
          ]
        },
        {
          "output_type": "execute_result",
          "data": {
            "text/plain": [
              "[0.232434943318367, 0.9157999753952026]"
            ]
          },
          "metadata": {},
          "execution_count": 35
        }
      ]
    },
    {
      "cell_type": "markdown",
      "metadata": {
        "id": "x8cXgNG9HJ70"
      },
      "source": [
        "Como podemos ver, la precisión (*accuracy*) ha llegado a 92% en comparación al 88% obtenido en los modelos anteriores. Podemos decir entonces que el uso de estas capas ha cumplido su objetivo."
      ]
    },
    {
      "cell_type": "markdown",
      "metadata": {
        "id": "CFj1cTSe5foX"
      },
      "source": [
        "#10. Callbacks\n"
      ]
    },
    {
      "cell_type": "markdown",
      "metadata": {
        "id": "iC_kzfpg5pKu"
      },
      "source": [
        "Los ***callbacks*** son son objetos de python que nos permiten realizar acciones dentro de las distintas etapas de el entrenamiento de una red neuronal. Pueden ser usados de múltiples formas. Entre ellas está guardar el modelo en el disco duro de manera periódica y ver el interior del modelo durante el entrenamiento. Pero, una de las más interesantes, que hemos utilizado en el apartado anterior, es *early stoping*. Esta función es usada para, de manera rápida, buscar el punto en que nuestro modelo deja de aprender y así poder evitar el *overfitting* y *underfitting*."
      ]
    },
    {
      "cell_type": "markdown",
      "metadata": {
        "id": "x5asyIqA2uU8"
      },
      "source": [
        "# 11. Conclusiones\n"
      ]
    },
    {
      "cell_type": "markdown",
      "metadata": {
        "id": "W2bKvH2vSMEs"
      },
      "source": [
        "La Práctica 2 nos ha resultado más sencilla tras haber realizado la Práctica 1. Hemos aprendido sobre la implementación de las Redes de Neuronas Convolucionales con un ejemplo que ya conocíamos, lo que nos ha facilitado muchas cosas.\n",
        "\n",
        "El haber trabajado con tres modelos y dos variaciones, nos ha permitido centrarnos más en cada modelo. La práctica ha sido similar a la anterior, pero al trabajar con Redes de Neuronas Convolucionales, hemos tenido que aprender a interpretar las cosas de manera adecuada.\n",
        "\n",
        "Por ejemplo, la función *summary* ya sabíamos utilizarla, pero los valores y la interpretación que les teníamos que dar eran diferentes. \n",
        "\n",
        "Las variaciones del modelo 1 nos han resultado interesantes, ya que hemos observado una mejora en el modelo 1_2 al cambiar el número de épocas, y ningún cambio en el modelo 1_t a pesar de haber cambiado la función de activación.\n",
        "\n",
        "En los datos de prueba, los tres modelos se comportan adecuadamente. Al evaluar la sexta imagen, todos aciertan. \n",
        "\n",
        "Cuando enfrentamos a nuestros modelos a las 14 primeras imágenes de los datos de prueba, vemos que todos obtienen relativamente buenos resultados, y que, igual que en la práctica anterior, se pueden confundir con prendas similares.\n",
        "\n",
        "Comparar ambas prácticas nos ha permitido aprender sobre el uso de Redes Convolucionales, y ver la diferencia entre unos resultados y otros.\n",
        "\n",
        "Por último, hemos aprendido qué son el *batch normalization*, la técnica de *dropout* y los *callbacks*, y cómo influyen al aplicarlos al modelo. *Dropout* nos ha permitido reducir el sobreentrenamiento para poder entrenar más el modelo, *batch normalization* ha permitido que el modelo converja de manera más rápida para no aumentar tanto el coste al entrenarlo más, y los *callbacks* nos han permitido determinar cuántas épocas debemos entrenar al modelo de manera mucho más simple y rápida que con la tecnica que usabamos antes. Esto es debido a que finaliza el entrenamiento mucho antes y no hace falta observar la gráfica para determinar las épocas óptimas.\n",
        "\n",
        "\n",
        "---"
      ]
    },
    {
      "cell_type": "markdown",
      "metadata": {
        "id": "25cxOpcgRmdv"
      },
      "source": [
        "Al igual que en la práctica anterior, para llevar a cabo estre proyecto hemos trabajado de manera conjunta. Solemos realizar trabajos juntos, por lo que estamos acostumbrados a que haya buena comunicación, siendo capaces de poder dividirnos el trabajo y aún así poder participar ambos en todas sus partes.\n",
        "\n",
        "Principalmente, Andrés Boullosa ha desarrollado el código, mientras que Cristina Velasco se ha centrado más en la parte de la memoria.\n",
        "\n",
        "Ambos nos hemos involucrado en las dos cosas, y ambos hemos realizado trabajo de investigación sobre los distintos temas requeridos (desde funciones específicas para el código hasta la correcta utilización de Markdown para una presentación adecuada), y ambos hemos revisado y entendido todas las partes, corrigiendo errores y realizando mejoras."
      ]
    },
    {
      "cell_type": "markdown",
      "metadata": {
        "id": "c7FfL9mARjoA"
      },
      "source": [
        "## Bibliografía"
      ]
    },
    {
      "cell_type": "markdown",
      "metadata": {
        "id": "NbQNg8FlSRzE"
      },
      "source": [
        "Además del [manual de Markdown](https://colab.research.google.com/notebooks/markdown_guide.ipynb) sugerido y los apuntes, documentos... etc. vistos en clase, hemos consultado las siguientes páginas webs:"
      ]
    },
    {
      "cell_type": "markdown",
      "metadata": {
        "id": "RMIYrSqj2x5X"
      },
      "source": [
        "[1] Freire, E., Silva, S. (23/11/2019). *Intro a las redes neuronales convolucionales*. Recuperado de https://bootcampai.medium.com/redes-neuronales-convolucionales-5e0ce960caf8 \n",
        "\n",
        "[2] Keras. (). *Flatten layer*. Recuperado de https://keras.io/api/layers/reshaping_layers/flatten/\n",
        "\n",
        "[3] Holbrook, R. (). *Dropout and Batch Normalization*. Recuperado de https://www.kaggle.com/ryanholbrook/dropout-and-batch-normalization \n",
        "\n",
        "[4] Holbrook, R. (). *Overfitting and Underfitting*. Recuperado de https://www.kaggle.com/ryanholbrook/overfitting-and-underfitting\n",
        "\n",
        "[5] TensorFlow. (). *Module: tf.keras.callbacks*. Recuperado de https://www.tensorflow.org/api_docs/python/tf/keras/callbacks\n",
        "\n",
        "[6] Kaggle. Intro to Deep Learning. Recuperado de https://www.kaggle.com/learn/intro-to-deep-learning "
      ]
    }
  ]
}