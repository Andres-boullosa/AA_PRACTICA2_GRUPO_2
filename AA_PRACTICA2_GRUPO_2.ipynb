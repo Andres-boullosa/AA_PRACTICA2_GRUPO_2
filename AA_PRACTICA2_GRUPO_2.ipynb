{
  "nbformat": 4,
  "nbformat_minor": 0,
  "metadata": {
    "accelerator": "GPU",
    "colab": {
      "name": "AA_PRACTICA2_GRUPO_2.ipynb",
      "provenance": [],
      "collapsed_sections": [
        "AXob0xN2ZUxx",
        "A5PBSVuFzMGb",
        "FvC6b_pa2knM",
        "aYXN2iI9zO_R",
        "88BdOhqV231L",
        "AxnvCmPy3bLD",
        "ldfiqfpG3ufu",
        "HSmDeAcD4O4K",
        "0ztlhyNG4psz",
        "WP-gRt9k40Qa",
        "j4LXs0M05n4m",
        "4VskyP6UCEDA",
        "GgLH18KY5SDF",
        "CFj1cTSe5foX",
        "c7FfL9mARjoA"
      ],
      "toc_visible": true,
      "include_colab_link": true
    },
    "kernelspec": {
      "display_name": "Python 3",
      "name": "python3"
    },
    "language_info": {
      "name": "python"
    }
  },
  "cells": [
    {
      "cell_type": "markdown",
      "metadata": {
        "id": "view-in-github",
        "colab_type": "text"
      },
      "source": [
        "<a href=\"https://colab.research.google.com/github/Andres-boullosa/AA_PRACTICA2_GRUPO_2/blob/main/AA_PRACTICA2_GRUPO_2.ipynb\" target=\"_parent\"><img src=\"https://colab.research.google.com/assets/colab-badge.svg\" alt=\"Open In Colab\"/></a>"
      ]
    },
    {
      "cell_type": "markdown",
      "metadata": {
        "id": "lf7z80eAZQfg"
      },
      "source": [
        "* GRUPO 2\n",
        "* Andrés Boullosa García\n",
        "* Cristina Velasco Almirall"
      ]
    },
    {
      "cell_type": "markdown",
      "metadata": {
        "id": "AXob0xN2ZUxx"
      },
      "source": [
        "# 0. Introducción"
      ]
    },
    {
      "cell_type": "markdown",
      "metadata": {
        "id": "Qe7QrSwwZiaQ"
      },
      "source": [
        "Esta práctica consiste en crear un modelo de Red de Neuronas Convolucionales que sea capaz de reconocer y clasificar imágenes de ropa.\n",
        "\n",
        "Las imágenes que utilizaremos provienen del conjunto de datos Fashion-MNIST, que contiene datos de las imágenes de Zalando, una página web de moda online alemana. Contiene 70000 imágenes de baja calidad (28x28 píxeles) en escala de grises en 10 categorías, de las cuales 60000 serán imágenes de entrenamiento y 10000 serán imágenes de test.\n",
        "\n",
        "A lo largo de este documento, definiremos, configuraremos, entrenaremos, evaluaremos y mejoraremos varios modelos que posteriormente utilizaremos para hacer predicciones."
      ]
    },
    {
      "cell_type": "markdown",
      "metadata": {
        "id": "BOfc2SvEZrWu"
      },
      "source": [
        "## Preparaciones necesarias"
      ]
    },
    {
      "cell_type": "markdown",
      "metadata": {
        "id": "rod8CGYDZsHe"
      },
      "source": [
        "### Librerías"
      ]
    },
    {
      "cell_type": "markdown",
      "metadata": {
        "id": "3IwJncmRZwu1"
      },
      "source": [
        "Importamos las librerías que vamos a requerir: TensorFlow y keras. Nos aseguramos de que la versión de TensorFlow sea 2.0.0 o superior. También comprobamos la versión de keras, así como si disponemos de GPU. Como podemos ver, tenemos la versión 2.6.0 tanto de keras como de Tensor Flow, y la GPU está disponible."
      ]
    },
    {
      "cell_type": "code",
      "metadata": {
        "colab": {
          "base_uri": "https://localhost:8080/"
        },
        "id": "zIszxuUVZx4V",
        "outputId": "653e898b-58f9-437d-dff0-22e4b1ed9314"
      },
      "source": [
        "%tensorflow_version 2.x\n",
        "import tensorflow as tf\n",
        "from tensorflow import keras\n",
        "\n",
        "# Comprobamos versiones de TF, keras, y si disponemos de GPU\n",
        "print(tf.keras.__version__)\n",
        "print(tf.__version__)\n",
        "print(\"GPU Available:\", tf.config.list_physical_devices('GPU'))"
      ],
      "execution_count": null,
      "outputs": [
        {
          "output_type": "stream",
          "name": "stdout",
          "text": [
            "2.7.0\n",
            "2.7.0\n",
            "GPU Available: [PhysicalDevice(name='/physical_device:GPU:0', device_type='GPU')]\n"
          ]
        }
      ]
    },
    {
      "cell_type": "markdown",
      "metadata": {
        "id": "ttBDc8wFZ009"
      },
      "source": [
        "### Carga y preparación de los datos"
      ]
    },
    {
      "cell_type": "markdown",
      "metadata": {
        "id": "hB0prdMAZ27W"
      },
      "source": [
        "Descargamos los datos: un dataset que obtenemos de keras llamado fashion_mnist. Como sabemos, es un conjunto de imágenes de ropa de la marca Zalando. Además de imágenes, este dataset contiene lo que llamamos \"labels\". Es decir, cada imagen lleva asociada una etiqueta que dice qué es esa imagen (un pantalón, una camiseta...). Descargamos imágenes y labels tanto de entrenamiento como de test."
      ]
    },
    {
      "cell_type": "code",
      "metadata": {
        "id": "qz0D1pbFZPHo",
        "colab": {
          "base_uri": "https://localhost:8080/"
        },
        "outputId": "5e9074e4-f7a2-4704-e7e9-bb737353b0e3"
      },
      "source": [
        "from keras.datasets import fashion_mnist\n",
        "\n",
        "(train_images, train_labels), (test_images, test_labels) = fashion_mnist.load_data()"
      ],
      "execution_count": null,
      "outputs": [
        {
          "output_type": "stream",
          "name": "stdout",
          "text": [
            "Downloading data from https://storage.googleapis.com/tensorflow/tf-keras-datasets/train-labels-idx1-ubyte.gz\n",
            "32768/29515 [=================================] - 0s 0us/step\n",
            "40960/29515 [=========================================] - 0s 0us/step\n",
            "Downloading data from https://storage.googleapis.com/tensorflow/tf-keras-datasets/train-images-idx3-ubyte.gz\n",
            "26427392/26421880 [==============================] - 0s 0us/step\n",
            "26435584/26421880 [==============================] - 0s 0us/step\n",
            "Downloading data from https://storage.googleapis.com/tensorflow/tf-keras-datasets/t10k-labels-idx1-ubyte.gz\n",
            "16384/5148 [===============================================================================================] - 0s 0us/step\n",
            "Downloading data from https://storage.googleapis.com/tensorflow/tf-keras-datasets/t10k-images-idx3-ubyte.gz\n",
            "4423680/4422102 [==============================] - 0s 0us/step\n",
            "4431872/4422102 [==============================] - 0s 0us/step\n"
          ]
        }
      ]
    },
    {
      "cell_type": "markdown",
      "metadata": {
        "id": "7CK-2RfYZ5kV"
      },
      "source": [
        "Para ver la forma de los datos, utilizamos la función *shape*. Observamos que tenemos 60000 imagenes de entrenamiento y 10000 de test, todas ellas de 28x28 píxeles."
      ]
    },
    {
      "cell_type": "code",
      "metadata": {
        "colab": {
          "base_uri": "https://localhost:8080/"
        },
        "id": "6OulIF9JZ8kL",
        "outputId": "6780611f-18dc-4e17-b4c9-92f6e0de79aa"
      },
      "source": [
        "# Vemos la forma de los datos\n",
        "print(train_images.shape)\n",
        "print(test_images.shape)"
      ],
      "execution_count": null,
      "outputs": [
        {
          "output_type": "stream",
          "name": "stdout",
          "text": [
            "(60000, 28, 28)\n",
            "(10000, 28, 28)\n"
          ]
        }
      ]
    },
    {
      "cell_type": "markdown",
      "metadata": {
        "id": "ITtWVD7BZ-q9"
      },
      "source": [
        "Transformamos los datos a tensores para que se puedan usar como entrada de nuestros futuros modelos. "
      ]
    },
    {
      "cell_type": "code",
      "metadata": {
        "colab": {
          "base_uri": "https://localhost:8080/"
        },
        "id": "MhkzE_wqZ_D1",
        "outputId": "b28a7143-e34b-4f35-df27-dfa04e72d8ab"
      },
      "source": [
        "train_images = train_images.reshape((60000, 28, 28, 1))\n",
        "train_images = train_images.astype('float32') / 255\n",
        "train_images.shape"
      ],
      "execution_count": null,
      "outputs": [
        {
          "output_type": "execute_result",
          "data": {
            "text/plain": [
              "(60000, 28, 28, 1)"
            ]
          },
          "metadata": {},
          "execution_count": 5
        }
      ]
    },
    {
      "cell_type": "code",
      "metadata": {
        "id": "dJhbjGOMaBUN"
      },
      "source": [
        "test_images = test_images.reshape((10000, 28, 28, 1))\n",
        "test_images = test_images.astype('float32') / 255"
      ],
      "execution_count": null,
      "outputs": []
    },
    {
      "cell_type": "markdown",
      "metadata": {
        "id": "W6-VxMCOaILW"
      },
      "source": [
        "# 1. Construimos y entrenamos los modelos pedidos"
      ]
    },
    {
      "cell_type": "code",
      "metadata": {
        "id": "4dSYkGMxaMTO"
      },
      "source": [
        "# Importamos las librerías necesarias\n",
        "from tensorflow.keras import Sequential\n",
        "from tensorflow.keras.layers import Flatten, Conv2D, MaxPooling2D, Dense\n",
        "from tensorflow.keras.layers import Dropout, BatchNormalization\n"
      ],
      "execution_count": null,
      "outputs": []
    },
    {
      "cell_type": "markdown",
      "metadata": {
        "id": "rsqqSHgQaOxW"
      },
      "source": [
        "Construimos y entrenamos los modelos para ver cuál es mejor, y por lo tanto, cuál deberíamos usar. En total son 5, con dos variaciones del modelo1 (el modelo1_2 y el modelo1_t)."
      ]
    },
    {
      "cell_type": "markdown",
      "metadata": {
        "id": "FjvEzc3czJgc"
      },
      "source": [
        "## Modelo 1"
      ]
    },
    {
      "cell_type": "code",
      "metadata": {
        "colab": {
          "base_uri": "https://localhost:8080/"
        },
        "id": "crwEkVgCahB2",
        "outputId": "c375c8b4-1a62-4a81-831b-f2d37b6d24ad"
      },
      "source": [
        "# Construimos el modelo\n",
        "model1 = Sequential()\n",
        "model1.add(Conv2D(32, (5,5), activation='relu', input_shape=(28, 28, 1)))\n",
        "model1.add(MaxPooling2D((2,2)))\n",
        "model1.add(Conv2D(64, (5,5), activation='relu'))\n",
        "model1.add(MaxPooling2D((2,2)))\n",
        "model1.add(Flatten())\n",
        "model1.add(Dense(10, activation='softmax'))\n",
        "\n",
        "# Compilamos el modelo: utilizamos el optimizador RMSProp y la función de \n",
        "# pérdida categorical_crossentropy.\n",
        "model1.compile(optimizer='sgd', \n",
        "                loss='sparse_categorical_crossentropy',\n",
        "                metrics=['accuracy'])\n",
        "\n",
        "# Entrenamos el modelo\n",
        "model1.fit(train_images, train_labels, epochs=5, batch_size=128)"
      ],
      "execution_count": null,
      "outputs": [
        {
          "output_type": "stream",
          "name": "stdout",
          "text": [
            "Epoch 1/5\n",
            "469/469 [==============================] - 17s 8ms/step - loss: 1.3123 - accuracy: 0.5677\n",
            "Epoch 2/5\n",
            "469/469 [==============================] - 4s 8ms/step - loss: 0.7323 - accuracy: 0.7333\n",
            "Epoch 3/5\n",
            "469/469 [==============================] - 4s 8ms/step - loss: 0.6370 - accuracy: 0.7675\n",
            "Epoch 4/5\n",
            "469/469 [==============================] - 4s 8ms/step - loss: 0.5854 - accuracy: 0.7851\n",
            "Epoch 5/5\n",
            "469/469 [==============================] - 4s 8ms/step - loss: 0.5496 - accuracy: 0.8011\n"
          ]
        },
        {
          "output_type": "execute_result",
          "data": {
            "text/plain": [
              "<keras.callbacks.History at 0x7fd5de752ad0>"
            ]
          },
          "metadata": {},
          "execution_count": 8
        }
      ]
    },
    {
      "cell_type": "markdown",
      "metadata": {
        "id": "A5PBSVuFzMGb"
      },
      "source": [
        "## Modelo 1_2"
      ]
    },
    {
      "cell_type": "code",
      "metadata": {
        "colab": {
          "base_uri": "https://localhost:8080/"
        },
        "id": "8MdALMBp5wom",
        "outputId": "be8a75c1-f009-4426-f040-6fef2fa21a0f"
      },
      "source": [
        "# Construimos el modelo\n",
        "model1_2 = Sequential()\n",
        "model1_2.add(Conv2D(32, (5,5), activation='relu', input_shape=(28, 28, 1)))\n",
        "model1_2.add(MaxPooling2D((2,2)))\n",
        "model1_2.add(Conv2D(64, (5,5), activation='relu'))\n",
        "model1_2.add(MaxPooling2D((2,2)))\n",
        "model1_2.add(Flatten())\n",
        "model1_2.add(Dense(10, activation='softmax'))\n",
        "\n",
        "# Compilamos el modelo: utilizamos el optimizador RMSProp y la función de \n",
        "# pérdida categorical_crossentropy.\n",
        "model1_2.compile(optimizer='sgd', \n",
        "                loss='sparse_categorical_crossentropy',\n",
        "                metrics=['accuracy'])\n",
        "\n",
        "# Entrenamos el modelo\n",
        "model1_2.fit(train_images, train_labels, epochs=25, batch_size=128)"
      ],
      "execution_count": null,
      "outputs": [
        {
          "output_type": "stream",
          "name": "stdout",
          "text": [
            "Epoch 1/25\n",
            "469/469 [==============================] - 4s 8ms/step - loss: 1.3780 - accuracy: 0.5529\n",
            "Epoch 2/25\n",
            "469/469 [==============================] - 4s 8ms/step - loss: 0.7173 - accuracy: 0.7377\n",
            "Epoch 3/25\n",
            "469/469 [==============================] - 4s 8ms/step - loss: 0.6200 - accuracy: 0.7723\n",
            "Epoch 4/25\n",
            "469/469 [==============================] - 4s 8ms/step - loss: 0.5657 - accuracy: 0.7943\n",
            "Epoch 5/25\n",
            "469/469 [==============================] - 4s 8ms/step - loss: 0.5280 - accuracy: 0.8103\n",
            "Epoch 6/25\n",
            "469/469 [==============================] - 4s 8ms/step - loss: 0.4998 - accuracy: 0.8229\n",
            "Epoch 7/25\n",
            "469/469 [==============================] - 4s 8ms/step - loss: 0.4797 - accuracy: 0.8305\n",
            "Epoch 8/25\n",
            "469/469 [==============================] - 4s 8ms/step - loss: 0.4615 - accuracy: 0.8382\n",
            "Epoch 9/25\n",
            "469/469 [==============================] - 4s 8ms/step - loss: 0.4463 - accuracy: 0.8428\n",
            "Epoch 10/25\n",
            "469/469 [==============================] - 4s 8ms/step - loss: 0.4345 - accuracy: 0.8479\n",
            "Epoch 11/25\n",
            "469/469 [==============================] - 4s 8ms/step - loss: 0.4234 - accuracy: 0.8510\n",
            "Epoch 12/25\n",
            "469/469 [==============================] - 4s 8ms/step - loss: 0.4146 - accuracy: 0.8553\n",
            "Epoch 13/25\n",
            "469/469 [==============================] - 4s 8ms/step - loss: 0.4064 - accuracy: 0.8577\n",
            "Epoch 14/25\n",
            "469/469 [==============================] - 4s 8ms/step - loss: 0.3989 - accuracy: 0.8607\n",
            "Epoch 15/25\n",
            "469/469 [==============================] - 4s 8ms/step - loss: 0.3942 - accuracy: 0.8617\n",
            "Epoch 16/25\n",
            "469/469 [==============================] - 4s 8ms/step - loss: 0.3865 - accuracy: 0.8640\n",
            "Epoch 17/25\n",
            "469/469 [==============================] - 4s 8ms/step - loss: 0.3821 - accuracy: 0.8653\n",
            "Epoch 18/25\n",
            "469/469 [==============================] - 4s 8ms/step - loss: 0.3764 - accuracy: 0.8686\n",
            "Epoch 19/25\n",
            "469/469 [==============================] - 4s 8ms/step - loss: 0.3713 - accuracy: 0.8707\n",
            "Epoch 20/25\n",
            "469/469 [==============================] - 4s 8ms/step - loss: 0.3680 - accuracy: 0.8708\n",
            "Epoch 21/25\n",
            "469/469 [==============================] - 4s 8ms/step - loss: 0.3638 - accuracy: 0.8715\n",
            "Epoch 22/25\n",
            "469/469 [==============================] - 4s 8ms/step - loss: 0.3596 - accuracy: 0.8732\n",
            "Epoch 23/25\n",
            "469/469 [==============================] - 4s 8ms/step - loss: 0.3563 - accuracy: 0.8750\n",
            "Epoch 24/25\n",
            "469/469 [==============================] - 4s 8ms/step - loss: 0.3526 - accuracy: 0.8761\n",
            "Epoch 25/25\n",
            "469/469 [==============================] - 4s 8ms/step - loss: 0.3493 - accuracy: 0.8768\n"
          ]
        },
        {
          "output_type": "execute_result",
          "data": {
            "text/plain": [
              "<keras.callbacks.History at 0x7fd5dce8e710>"
            ]
          },
          "metadata": {},
          "execution_count": 9
        }
      ]
    },
    {
      "cell_type": "markdown",
      "metadata": {
        "id": "FvC6b_pa2knM"
      },
      "source": [
        "## Modelo 1_t"
      ]
    },
    {
      "cell_type": "code",
      "metadata": {
        "colab": {
          "base_uri": "https://localhost:8080/"
        },
        "id": "4aZSSBGc54_-",
        "outputId": "af00b1d2-7fb1-463b-db96-b7484c714bf5"
      },
      "source": [
        "# Construimos el modelo\n",
        "model1_t = Sequential()\n",
        "model1_t.add(Conv2D(32, (5,5), activation='tanh', input_shape=(28, 28, 1)))\n",
        "model1_t.add(MaxPooling2D((2,2)))\n",
        "model1_t.add(Conv2D(64, (5,5), activation='tanh'))\n",
        "model1_t.add(MaxPooling2D((2,2)))\n",
        "model1_t.add(Flatten())\n",
        "model1_t.add(Dense(10, activation='softmax'))\n",
        "\n",
        "# Compilamos el modelo: utilizamos el optimizador RMSProp y la función de \n",
        "# pérdida categorical_crossentropy.\n",
        "model1_t.compile(optimizer='sgd', \n",
        "                loss='sparse_categorical_crossentropy',\n",
        "                metrics=['accuracy'])\n",
        "\n",
        "# Entrenamos el modelo\n",
        "model1_t.fit(train_images, train_labels, epochs=5, batch_size=128)"
      ],
      "execution_count": null,
      "outputs": [
        {
          "output_type": "stream",
          "name": "stdout",
          "text": [
            "Epoch 1/5\n",
            "469/469 [==============================] - 5s 9ms/step - loss: 1.2443 - accuracy: 0.6233\n",
            "Epoch 2/5\n",
            "469/469 [==============================] - 4s 8ms/step - loss: 0.6948 - accuracy: 0.7506\n",
            "Epoch 3/5\n",
            "469/469 [==============================] - 4s 8ms/step - loss: 0.6085 - accuracy: 0.7792\n",
            "Epoch 4/5\n",
            "469/469 [==============================] - 4s 8ms/step - loss: 0.5576 - accuracy: 0.7983\n",
            "Epoch 5/5\n",
            "469/469 [==============================] - 4s 8ms/step - loss: 0.5225 - accuracy: 0.8126\n"
          ]
        },
        {
          "output_type": "execute_result",
          "data": {
            "text/plain": [
              "<keras.callbacks.History at 0x7fd5de56b890>"
            ]
          },
          "metadata": {},
          "execution_count": 10
        }
      ]
    },
    {
      "cell_type": "markdown",
      "metadata": {
        "id": "aYXN2iI9zO_R"
      },
      "source": [
        "## Modelo 2"
      ]
    },
    {
      "cell_type": "code",
      "metadata": {
        "id": "6bVchmpZzty0",
        "colab": {
          "base_uri": "https://localhost:8080/"
        },
        "outputId": "85d152f1-1c2b-482f-91c4-b77406e7c203"
      },
      "source": [
        "# Construimos el modelo2\n",
        "model2 = Sequential()\n",
        "model2.add(Conv2D(64, (7,7), padding=\"same\", activation='relu', input_shape=(28, 28, 1)))\n",
        "model2.add(MaxPooling2D((2,2)))\n",
        "model2.add(Conv2D(128, (3,3), padding=\"same\", activation='relu'))\n",
        "model2.add(MaxPooling2D((2,2)))\n",
        "model2.add(Flatten())\n",
        "model2.add(Dense(65, activation='relu'))\n",
        "model2.add(Dense(10, activation='softmax'))\n",
        "\n",
        "# Compilamos el modelo: utilizamos el optimizador RMSProp y la función de \n",
        "# pérdida categorical_crossentropy.\n",
        "model2.compile(optimizer='sgd', \n",
        "                loss='sparse_categorical_crossentropy',\n",
        "                metrics=['accuracy'])\n",
        "\n",
        "# Entrenamos el modelo\n",
        "model2.fit(train_images, train_labels, epochs=5, batch_size=128)"
      ],
      "execution_count": null,
      "outputs": [
        {
          "output_type": "stream",
          "name": "stdout",
          "text": [
            "Epoch 1/5\n",
            "469/469 [==============================] - 7s 14ms/step - loss: 1.1736 - accuracy: 0.5952\n",
            "Epoch 2/5\n",
            "469/469 [==============================] - 7s 14ms/step - loss: 0.6784 - accuracy: 0.7540\n",
            "Epoch 3/5\n",
            "469/469 [==============================] - 7s 14ms/step - loss: 0.5981 - accuracy: 0.7819\n",
            "Epoch 4/5\n",
            "469/469 [==============================] - 6s 14ms/step - loss: 0.5505 - accuracy: 0.8001\n",
            "Epoch 5/5\n",
            "469/469 [==============================] - 6s 14ms/step - loss: 0.5164 - accuracy: 0.8134\n"
          ]
        },
        {
          "output_type": "execute_result",
          "data": {
            "text/plain": [
              "<keras.callbacks.History at 0x7fd5de45ec50>"
            ]
          },
          "metadata": {},
          "execution_count": 11
        }
      ]
    },
    {
      "cell_type": "markdown",
      "metadata": {
        "id": "KK3lu_0IzQWp"
      },
      "source": [
        "## Modelo 3"
      ]
    },
    {
      "cell_type": "code",
      "metadata": {
        "id": "0f-jyu3G07ym",
        "colab": {
          "base_uri": "https://localhost:8080/"
        },
        "outputId": "bcaec74f-68d8-40a7-bfb7-396b35531e28"
      },
      "source": [
        "model3 = Sequential()\n",
        "model3.add(Conv2D(64,(7,7), padding=\"same\", activation='relu', input_shape=(28,28,1)))\n",
        "model3.add(MaxPooling2D((2,2)))\n",
        "model3.add(Conv2D(128,(3,3), padding=\"same\",activation='relu'))\n",
        "model3.add(MaxPooling2D((2,2)))\n",
        "model3.add(Flatten())\n",
        "model3.add(Dense(65, activation='relu'))\n",
        "model3.add(Dense(10, activation='softmax'))\n",
        "\n",
        "# Compilamos el modelo: utilizamos el optimizador RMSProp y la función de \n",
        "# pérdida categorical_crossentropy.\n",
        "model3.compile(optimizer='adam', \n",
        "                loss='sparse_categorical_crossentropy',\n",
        "                metrics=['accuracy'])\n",
        "\n",
        "# Entrenamos el modelo\n",
        "model3.fit(train_images, train_labels, epochs=5, batch_size=128)"
      ],
      "execution_count": null,
      "outputs": [
        {
          "output_type": "stream",
          "name": "stdout",
          "text": [
            "Epoch 1/5\n",
            "469/469 [==============================] - 7s 14ms/step - loss: 0.4968 - accuracy: 0.8220\n",
            "Epoch 2/5\n",
            "469/469 [==============================] - 6s 14ms/step - loss: 0.3164 - accuracy: 0.8874\n",
            "Epoch 3/5\n",
            "469/469 [==============================] - 6s 14ms/step - loss: 0.2690 - accuracy: 0.9026\n",
            "Epoch 4/5\n",
            "469/469 [==============================] - 6s 14ms/step - loss: 0.2368 - accuracy: 0.9136\n",
            "Epoch 5/5\n",
            "469/469 [==============================] - 6s 14ms/step - loss: 0.2164 - accuracy: 0.9195\n"
          ]
        },
        {
          "output_type": "execute_result",
          "data": {
            "text/plain": [
              "<keras.callbacks.History at 0x7fd5de45bd50>"
            ]
          },
          "metadata": {},
          "execution_count": 12
        }
      ]
    },
    {
      "cell_type": "markdown",
      "metadata": {
        "id": "88BdOhqV231L"
      },
      "source": [
        "# 2. Explicamos la salida de la llamada a summary"
      ]
    },
    {
      "cell_type": "markdown",
      "metadata": {
        "id": "AvW9UFNs3Bsz"
      },
      "source": [
        "Utilizamos la función *summary* para tener un resumen de cada uno de nuestros modelos. El resumen incluye la siguiente información:\n",
        "\n",
        "\n",
        "1.   Las capas (*layer*) y su orden en el modelo.\n",
        "2.   La forma del output (*output shape*) y su orden en el modelo.\n",
        "3.   El número de parámetros (*param*, los pesos que tiene) en cada capa. \n",
        "4.   El número total de parámetros (*total params*) en el modelo.\n"
      ]
    },
    {
      "cell_type": "code",
      "metadata": {
        "id": "wDQeYvPF3IF7",
        "colab": {
          "base_uri": "https://localhost:8080/"
        },
        "outputId": "0e11f41d-1873-4ffa-913a-b2fa6bdaa6fb"
      },
      "source": [
        "print('Modelo 1:')\n",
        "model1.summary()"
      ],
      "execution_count": null,
      "outputs": [
        {
          "output_type": "stream",
          "name": "stdout",
          "text": [
            "Modelo 1:\n",
            "Model: \"sequential\"\n",
            "_________________________________________________________________\n",
            " Layer (type)                Output Shape              Param #   \n",
            "=================================================================\n",
            " conv2d (Conv2D)             (None, 24, 24, 32)        832       \n",
            "                                                                 \n",
            " max_pooling2d (MaxPooling2D  (None, 12, 12, 32)       0         \n",
            " )                                                               \n",
            "                                                                 \n",
            " conv2d_1 (Conv2D)           (None, 8, 8, 64)          51264     \n",
            "                                                                 \n",
            " max_pooling2d_1 (MaxPooling  (None, 4, 4, 64)         0         \n",
            " 2D)                                                             \n",
            "                                                                 \n",
            " flatten (Flatten)           (None, 1024)              0         \n",
            "                                                                 \n",
            " dense (Dense)               (None, 10)                10250     \n",
            "                                                                 \n",
            "=================================================================\n",
            "Total params: 62,346\n",
            "Trainable params: 62,346\n",
            "Non-trainable params: 0\n",
            "_________________________________________________________________\n"
          ]
        }
      ]
    },
    {
      "cell_type": "code",
      "metadata": {
        "colab": {
          "base_uri": "https://localhost:8080/"
        },
        "id": "6OcbrtTUznmE",
        "outputId": "4b698838-6962-420f-c265-33d5bd4ea6ca"
      },
      "source": [
        "print('Modelo 2:')\n",
        "model2.summary()"
      ],
      "execution_count": null,
      "outputs": [
        {
          "output_type": "stream",
          "name": "stdout",
          "text": [
            "Modelo 2:\n",
            "Model: \"sequential_3\"\n",
            "_________________________________________________________________\n",
            " Layer (type)                Output Shape              Param #   \n",
            "=================================================================\n",
            " conv2d_6 (Conv2D)           (None, 28, 28, 64)        3200      \n",
            "                                                                 \n",
            " max_pooling2d_6 (MaxPooling  (None, 14, 14, 64)       0         \n",
            " 2D)                                                             \n",
            "                                                                 \n",
            " conv2d_7 (Conv2D)           (None, 14, 14, 128)       73856     \n",
            "                                                                 \n",
            " max_pooling2d_7 (MaxPooling  (None, 7, 7, 128)        0         \n",
            " 2D)                                                             \n",
            "                                                                 \n",
            " flatten_3 (Flatten)         (None, 6272)              0         \n",
            "                                                                 \n",
            " dense_3 (Dense)             (None, 65)                407745    \n",
            "                                                                 \n",
            " dense_4 (Dense)             (None, 10)                660       \n",
            "                                                                 \n",
            "=================================================================\n",
            "Total params: 485,461\n",
            "Trainable params: 485,461\n",
            "Non-trainable params: 0\n",
            "_________________________________________________________________\n"
          ]
        }
      ]
    },
    {
      "cell_type": "code",
      "metadata": {
        "colab": {
          "base_uri": "https://localhost:8080/"
        },
        "id": "3GDn7NO3zqiW",
        "outputId": "867eea10-d048-4a91-9c95-eb8c710ed639"
      },
      "source": [
        "print('Model 3:')\n",
        "model3.summary()"
      ],
      "execution_count": null,
      "outputs": [
        {
          "output_type": "stream",
          "name": "stdout",
          "text": [
            "Model 3:\n",
            "Model: \"sequential_4\"\n",
            "_________________________________________________________________\n",
            " Layer (type)                Output Shape              Param #   \n",
            "=================================================================\n",
            " conv2d_8 (Conv2D)           (None, 28, 28, 64)        3200      \n",
            "                                                                 \n",
            " max_pooling2d_8 (MaxPooling  (None, 14, 14, 64)       0         \n",
            " 2D)                                                             \n",
            "                                                                 \n",
            " conv2d_9 (Conv2D)           (None, 14, 14, 128)       73856     \n",
            "                                                                 \n",
            " max_pooling2d_9 (MaxPooling  (None, 7, 7, 128)        0         \n",
            " 2D)                                                             \n",
            "                                                                 \n",
            " flatten_4 (Flatten)         (None, 6272)              0         \n",
            "                                                                 \n",
            " dense_5 (Dense)             (None, 65)                407745    \n",
            "                                                                 \n",
            " dense_6 (Dense)             (None, 10)                660       \n",
            "                                                                 \n",
            "=================================================================\n",
            "Total params: 485,461\n",
            "Trainable params: 485,461\n",
            "Non-trainable params: 0\n",
            "_________________________________________________________________\n"
          ]
        }
      ]
    },
    {
      "cell_type": "markdown",
      "metadata": {
        "id": "WCXGIIF4fVNi"
      },
      "source": [
        "\n",
        "\n",
        "---\n",
        "\n"
      ]
    },
    {
      "cell_type": "markdown",
      "metadata": {
        "id": "PK8db9WVrNXg"
      },
      "source": [
        "1. Vemos que el modelo 1 tiene 6 capas (*layers*): dos Conv2D, dos MaxPooling2D, una Flatten y una Dense. \n",
        "El modelo 2 tiene 7 capas: dos Conv 2D, dos MaxPooling2D, una Flatten y dos Dense. \n",
        "El modelo 3 también tiene 7 capas, iguales que las del modelo 2.\n",
        "\n",
        "2. En todos los modelos, las primeras cuatro capas, tienen un *output shape* de (None, x, x, x), siendo x números que varían según la capa. Los primeros dos números son las dimensiones de las imágenes, que se van haciendo más pequeñas debido a la convolución, y el siguiente número es de los filtros. \n",
        "Las últimas tres capas (dos en el caso del primer modelo), tienen solamente un número. Esto es debido a que la capa Flatten aplana la capa anterior, por lo que, por ejemplo, pasa de tener forma (None, 4, 4, 64) a (None, 4x4x64), es decir (None, 1024). \n",
        "En la última, (None, 10), el 10 sale de las 10 categorías en las que queremos clasificar las imágenes.\n",
        "\n",
        "3. El número de parámetros sale de la siguiente fórmula: \n",
        "(TAMAÑO DE LA VENTANA (nxn) x NÚMERO DE FILTROS QUE ENTRAN + STRIDE) x NÚMERO DE FILTROS NUEVOS. \n",
        "En el caso de la primera capa, el número de filtros que entran es 1.  \n",
        "La capa MaxPooling2D tiene 0 parámetros ya que al ser conocida la operación que realiza (coger el máximo de la ventana) no necesitamos que la red neuronal la aprenda. La capa Flatten cambia la disposición de las capas, por lo que tampoco necesita parámetros.\n",
        "\n",
        "4. El número total de parámetros del modelo 1 es 62346, y 210901 en el caso del modelo 2 y 3, de los cuales el 100% son entrenables."
      ]
    },
    {
      "cell_type": "markdown",
      "metadata": {
        "id": "AxnvCmPy3bLD"
      },
      "source": [
        "# 3. Análisis del model1 frente a model1_2"
      ]
    },
    {
      "cell_type": "code",
      "metadata": {
        "id": "20xK80ww-c5h",
        "colab": {
          "base_uri": "https://localhost:8080/"
        },
        "outputId": "55d618a0-ce46-44f5-dde9-7d04fb7a960b"
      },
      "source": [
        "print('Modelo 1:')\n",
        "model1.evaluate(test_images, test_labels)\n",
        "\n",
        "print('Modelo 1_2:')\n",
        "model1_2.evaluate(test_images, test_labels)"
      ],
      "execution_count": null,
      "outputs": [
        {
          "output_type": "stream",
          "name": "stdout",
          "text": [
            "Modelo 1:\n",
            "313/313 [==============================] - 2s 4ms/step - loss: 0.5482 - accuracy: 0.7995\n",
            "Modelo 1_2:\n",
            "313/313 [==============================] - 1s 4ms/step - loss: 0.3995 - accuracy: 0.8551\n"
          ]
        },
        {
          "output_type": "execute_result",
          "data": {
            "text/plain": [
              "[0.39946117997169495, 0.8550999760627747]"
            ]
          },
          "metadata": {},
          "execution_count": 16
        }
      ]
    },
    {
      "cell_type": "markdown",
      "metadata": {
        "id": "5J63EX-I-1NH"
      },
      "source": [
        "Al enfrentar los modelos 1 y 1_2 con las imágenes de test, podemos ver que el modelo1 tiene una pérdida (*loss*) de 0.55 y una precisión (*accuracy*) de 0.8.\n",
        "\n",
        "Sin embargo, el modelo1_2 tiene una pérdida menor, de 0.41 y una precisión mayor, de 0.856. \n",
        "\n",
        "Observamos que al aumentar el número de épocas (*epoch*) de 5 a 25, el modelo mejora bastante sin sufrir sobreentrenamiento. "
      ]
    },
    {
      "cell_type": "markdown",
      "metadata": {
        "id": "ldfiqfpG3ufu"
      },
      "source": [
        "#4. Análisis del model1 frente a model1_t"
      ]
    },
    {
      "cell_type": "code",
      "metadata": {
        "id": "9dp55fUu-2-X",
        "colab": {
          "base_uri": "https://localhost:8080/"
        },
        "outputId": "99a7c9f6-c60d-47fc-9c94-6c1ed55ebe12"
      },
      "source": [
        "print('Modelo 1:')\n",
        "model1.evaluate(test_images, test_labels)\n",
        "\n",
        "print('Modelo 1_t:')\n",
        "model1_t.evaluate(test_images, test_labels)"
      ],
      "execution_count": null,
      "outputs": [
        {
          "output_type": "stream",
          "name": "stdout",
          "text": [
            "Modelo 1:\n",
            "313/313 [==============================] - 1s 4ms/step - loss: 0.5482 - accuracy: 0.7995\n",
            "Modelo 1_t:\n",
            "313/313 [==============================] - 1s 4ms/step - loss: 0.5279 - accuracy: 0.8113\n"
          ]
        },
        {
          "output_type": "execute_result",
          "data": {
            "text/plain": [
              "[0.5278849005699158, 0.8112999796867371]"
            ]
          },
          "metadata": {},
          "execution_count": 17
        }
      ]
    },
    {
      "cell_type": "markdown",
      "metadata": {
        "id": "wOnudfFv-3En"
      },
      "source": [
        "Sin embargo, al comparar el modelo1 con el modelo1_t, vemos que sus pérdidas (*loss*) no son muy diferentes (ambas están alrededor de 0.55) y su precisión (*accuracy*) tampoco (ambas alrededor de 0.8). \n",
        "\n",
        "Es decir, cambiar la función de activación de las dos capas convolucionales de *ReLU* a *tanh* manteniendo el número de épocas (*epoch*), no ha hecho que el modelo mejore. "
      ]
    },
    {
      "cell_type": "markdown",
      "metadata": {
        "id": "HSmDeAcD4O4K"
      },
      "source": [
        "#5. Evaluación de los 3 modelos comparando el rendimiento en los datos de prueba"
      ]
    },
    {
      "cell_type": "code",
      "metadata": {
        "id": "Qj5XREWW_Kid",
        "colab": {
          "base_uri": "https://localhost:8080/"
        },
        "outputId": "411f13a3-7a2e-46af-8cdd-bd6e595428d1"
      },
      "source": [
        "print('Modelo 1:')\n",
        "model1.evaluate(test_images, test_labels)\n",
        "\n",
        "print('Modelo 2:')\n",
        "model2.evaluate(test_images, test_labels)\n",
        "\n",
        "print('Modelo 3:')\n",
        "model3.evaluate(test_images, test_labels)"
      ],
      "execution_count": null,
      "outputs": [
        {
          "output_type": "stream",
          "name": "stdout",
          "text": [
            "Modelo 1:\n",
            "313/313 [==============================] - 1s 4ms/step - loss: 0.5482 - accuracy: 0.7995\n",
            "Modelo 2:\n",
            "313/313 [==============================] - 2s 5ms/step - loss: 0.5215 - accuracy: 0.8122\n",
            "Modelo 3:\n",
            "313/313 [==============================] - 2s 5ms/step - loss: 0.2680 - accuracy: 0.9050\n"
          ]
        },
        {
          "output_type": "execute_result",
          "data": {
            "text/plain": [
              "[0.267985463142395, 0.9049999713897705]"
            ]
          },
          "metadata": {},
          "execution_count": 18
        }
      ]
    },
    {
      "cell_type": "markdown",
      "metadata": {
        "id": "lSHrg32E_yQS"
      },
      "source": [
        "Al evaluar los modelos 1, 2 y 3 con los datos de prueba, podemos observar que el modelo 1 y 2 obtienen valores de pérdida (*loss*) y precisión (*accuracy*) muy similares, alrededor de 0.55 y 0.8 respectivamente. \n",
        "\n",
        "Sin embargo, el modelo 3 reduce notablemente la pérdida, pasando de 0.5 en los modelos 1 y 2 a 0.3 en el modelo 3. La precisión también sube, de 0.8 a 0.9.\n",
        "\n",
        "Habiendo analizado los resultados, podemos concluir que el modelo 3 se comporta mejor que los modelos 1 y 2 al evaluarlos con los datos de prueba. "
      ]
    },
    {
      "cell_type": "markdown",
      "metadata": {
        "id": "0ztlhyNG4psz"
      },
      "source": [
        "#6. Predicciones de los 3 modelos en la imagen 6 del conjunto de prueba"
      ]
    },
    {
      "cell_type": "markdown",
      "metadata": {
        "id": "5p3ESRZVJsFy"
      },
      "source": [
        "Predecimos y imprimimos la 6ª imagen para todos los modelos."
      ]
    },
    {
      "cell_type": "code",
      "metadata": {
        "id": "tmTvlVSt_xba",
        "colab": {
          "base_uri": "https://localhost:8080/"
        },
        "outputId": "db6b119a-1685-490a-b049-d5271e6ac6ad"
      },
      "source": [
        "# Importamos numpy para poder usar argmax\n",
        "import numpy as np\n",
        "\n",
        "# Obtenemos las predicciones para los modelos\n",
        "predictions1 = model1.predict(test_images)\n",
        "predictions2 = model2.predict(test_images)\n",
        "predictions3 = model3.predict(test_images)\n",
        "print('Predición modelo 1:',np.argmax(predictions1[5]))\n",
        "\n",
        "print('Predición modelo 2:',np.argmax(predictions2[5]))\n",
        "\n",
        "print('Predición modelo 3:',np.argmax(predictions3[5]))"
      ],
      "execution_count": null,
      "outputs": [
        {
          "output_type": "stream",
          "name": "stdout",
          "text": [
            "Predición modelo 1: 1\n",
            "Predición modelo 2: 1\n",
            "Predición modelo 3: 1\n"
          ]
        }
      ]
    },
    {
      "cell_type": "markdown",
      "metadata": {
        "id": "cz5O4Ci45neW"
      },
      "source": [
        "Podemos ver que los tres modelos coinciden que la imagen número 6 es la prenda número 1 (pantalones). Todos aciertan."
      ]
    },
    {
      "cell_type": "markdown",
      "metadata": {
        "id": "WP-gRt9k40Qa"
      },
      "source": [
        "#7. Graficamos las primeras 14 imagenes para los 3 modelos"
      ]
    },
    {
      "cell_type": "markdown",
      "metadata": {
        "id": "nFdSe3J4HWCQ"
      },
      "source": [
        "Creamos un vector llamado *class_names* con los nombres de cada clase, es decir, los nombres de las categorías en las que podemos clasificar las prendas de las imágenes."
      ]
    },
    {
      "cell_type": "code",
      "metadata": {
        "id": "YTa_MkXnHWIf"
      },
      "source": [
        "class_names = ['T-shirt/top', 'Trouser', 'Pullover', 'Dress', 'Coat',\n",
        "               'Sandal', 'Shirt', 'Sneaker', 'Bag', 'Ankle boot']"
      ],
      "execution_count": null,
      "outputs": []
    },
    {
      "cell_type": "markdown",
      "metadata": {
        "id": "j4LXs0M05n4m"
      },
      "source": [
        "## Funciones necesarias para graficación"
      ]
    },
    {
      "cell_type": "code",
      "metadata": {
        "id": "i4GKHMA_BHZ6"
      },
      "source": [
        "import matplotlib.pyplot as plt\n",
        "\n",
        "def plot_image(i, predictions_array, true_label, img):\n",
        "  predictions_array, true_label, img = predictions_array[i], true_label[i], img[i]\n",
        "  plt.grid(False)\n",
        "  plt.xticks([])\n",
        "  plt.yticks([])\n",
        "\n",
        "  plt.imshow(img, cmap=plt.cm.binary)\n",
        "\n",
        "  predicted_label = np.argmax(predictions_array)\n",
        "  if predicted_label == true_label:\n",
        "    color = 'blue'\n",
        "  else:\n",
        "    color = 'red'\n",
        "  \n",
        "  plt.xlabel(\"{} {:2.0f}% ({})\".format(class_names[predicted_label],\n",
        "                                100*np.max(predictions_array),\n",
        "                                class_names[true_label]),\n",
        "                                color=color)\n",
        "\n",
        "def plot_value_array(i, predictions_array, true_label):\n",
        "    predictions_array, true_label = predictions_array[i], true_label[i]\n",
        "    plt.grid(False)\n",
        "    plt.xticks(range(10))\n",
        "    plt.yticks([])\n",
        "    thisplot = plt.bar(range(10), predictions_array, color=\"#777777\")\n",
        "    plt.ylim([0, 1])\n",
        "    predicted_label = np.argmax(predictions_array)\n",
        "  \n",
        "    thisplot[predicted_label].set_color('red')\n",
        "    thisplot[true_label].set_color('blue')"
      ],
      "execution_count": null,
      "outputs": []
    },
    {
      "cell_type": "markdown",
      "metadata": {
        "id": "4VskyP6UCEDA"
      },
      "source": [
        " ## Graficación del comportamiento de los modelos\n"
      ]
    },
    {
      "cell_type": "code",
      "metadata": {
        "colab": {
          "base_uri": "https://localhost:8080/"
        },
        "id": "vCzT6u3bEVZw",
        "outputId": "0e1c1ecd-9747-46df-bb68-1da917463356"
      },
      "source": [
        "# Iniciamos el tamaño de la matriz para imprimir\n",
        "num_rows = 2\n",
        "num_cols = 7\n",
        "num_images = num_rows*num_cols\n",
        "\n",
        "# Cambiamos los datos para que tengan la forma necesaria\n",
        "(train_images, train_labels), (test_images, test_labels) = fashion_mnist.load_data()\n",
        "train_images = train_images.astype('float32') / 255\n",
        "test_images = test_images.astype('float32') / 255\n",
        "\n",
        "# Graficamos el comportamiento del modelo 1\n",
        "print(\"\\nModelo 1:\")\n",
        "plt.figure(figsize=(2*2*num_cols, 2*num_rows))\n",
        "for i in range(num_images):\n",
        "    plt.subplot(num_rows, 2*num_cols, 2*i+1)\n",
        "    plot_image(i, predictions1, test_labels, test_images)\n",
        "    plt.subplot(num_rows, 2*num_cols, 2*i+2)\n",
        "    plot_value_array(i, predictions1, test_labels)\n",
        "plt.show()\n",
        "\n",
        "# Graficamos el comportamiento del modelo 2\n",
        "print(\"\\nModelo 2:\")\n",
        "plt.figure(figsize=(2*2*num_cols, 2*num_rows))\n",
        "for i in range(num_images):\n",
        "    plt.subplot(num_rows, 2*num_cols, 2*i+1)\n",
        "    plot_image(i, predictions2, test_labels, test_images)\n",
        "    plt.subplot(num_rows, 2*num_cols, 2*i+2)\n",
        "    plot_value_array(i, predictions2, test_labels)\n",
        "plt.show()\n",
        "\n",
        "# Graficamos el comportamiento del modelo 3\n",
        "print(\"\\nModelo 3:\")\n",
        "plt.figure(figsize=(2*2*num_cols, 2*num_rows))\n",
        "for i in range(num_images):\n",
        "    plt.subplot(num_rows, 2*num_cols, 2*i+1)\n",
        "    plot_image(i, predictions3, test_labels, test_images)\n",
        "    plt.subplot(num_rows, 2*num_cols, 2*i+2)\n",
        "    plot_value_array(i, predictions3, test_labels)\n",
        "plt.show()"
      ],
      "execution_count": null,
      "outputs": [
        {
          "output_type": "stream",
          "name": "stdout",
          "text": [
            "\n",
            "Modelo 1:\n"
          ]
        },
        {
          "output_type": "display_data",
          "data": {
            "image/png": "[encoded data removed]",
            "text/plain": [
              "<Figure size 2016x288 with 28 Axes>"
            ]
          },
          "metadata": {
            "needs_background": "light"
          }
        },
        {
          "output_type": "stream",
          "name": "stdout",
          "text": [
            "\n",
            "Modelo 2:\n"
          ]
        },
        {
          "output_type": "display_data",
          "data": {
            "image/png": "[encoded data removed]",
            "text/plain": [
              "<Figure size 2016x288 with 28 Axes>"
            ]
          },
          "metadata": {
            "needs_background": "light"
          }
        },
        {
          "output_type": "stream",
          "name": "stdout",
          "text": [
            "\n",
            "Modelo 3:\n"
          ]
        },
        {
          "output_type": "display_data",
          "data": {
            "image/png": "[encoded data removed]",
            "text/plain": [
              "<Figure size 2016x288 with 28 Axes>"
            ]
          },
          "metadata": {
            "needs_background": "light"
          }
        }
      ]
    },
    {
      "cell_type": "markdown",
      "metadata": {
        "id": "CC0FkwMzKiXF"
      },
      "source": [
        "Los modelos, predicen correctamente 13 de las 14 imágenes. \n",
        "\n",
        "Los tres fallan con la imagen de una zapatilla (*sneaker*), a la que confunden con una sandalia.\n",
        "\n",
        "Por lo general, los modelos se comportan de forma correcta con las 14 imágenes seleccionadas, acertando aproximadamente el 90% de las veces. "
      ]
    },
    {
      "cell_type": "markdown",
      "metadata": {
        "id": "GgLH18KY5SDF"
      },
      "source": [
        "#8. Comparativa con resultados de la Práctica 1"
      ]
    },
    {
      "cell_type": "markdown",
      "metadata": {
        "id": "sIqLVl9X5oWO"
      },
      "source": [
        "Para poder comparar con propiedad, recordemos las conclusiones obtenidas en la Práctica 1:\n",
        "\n",
        "Construimos 8 modelos y dos variaciones. El mejor modelo tenía una precisión del 87% y una pérdida de 0.36.\n",
        "\n",
        "Como es lógico, nuestros modelos bajaron la precisión al enfrentarlos con las imagenes de test, equivocándose sobretodo en prendas similares.\n",
        "\n",
        "El mejorar el modelo con la función de optimización *adam* y la función de *pérdida sparse_categorical_crossentropy*, nos permitió obtener unos resultados y valores de precisión y pérdida mejores, destacando sobretodo que no variaban del entrenamiento al testado. \n"
      ]
    },
    {
      "cell_type": "markdown",
      "metadata": {
        "id": "MYHtYMmEPSnB"
      },
      "source": [
        "---\n",
        "\n",
        "\n",
        "En la Práctica 2, el mejor modelo, el modelo 3, tiene una precisión del 90% y \n",
        "una pérdida de 0.26, valores similares aunque mejores que los de la primera práctica.\n",
        "\n",
        "Sin embargo, podemos observar que los tres modelos tienen la precisión alrededor del 80% y la pérdida alrededor de 0.55. Todos los modelos se comportan bien, y en todos hemos obtenido buenos resultados, a diferencia de la práctica anterior, en la que teníamos modelos con valores de pérdida y precisión que podían ser muy diferentes entre sí.\n",
        "\n",
        "Los modelos de esta práctica también se confunden con prendas similares, como hemos podido observar, confundiendo *sneaker* con *sandal*."
      ]
    },
    {
      "cell_type": "markdown",
      "metadata": {
        "id": "0W_IH6sJ5WUV"
      },
      "source": [
        "#9. BatchNormalization y Dropout"
      ]
    },
    {
      "cell_type": "markdown",
      "metadata": {
        "id": "EMcs0c3NGGTC"
      },
      "source": [
        "Como ya hemos visto anteriormente en clase, las redes neuronales funcionan de mejor manera cuando los datos de los que disponen están en una escala similar. **Batch normalization** no consiste solo en normalizar los datos antes de entrenar los modelos, sino también en hacerlo con las mismas salidas de las funciones. \n",
        "\n",
        "Usualmente, esto permite a las redes neuronales encontrar los patrones más rapido y no quedarse atascadas en ciertos mínimos. Es decir, cuando se utilizan estas capas las redes necesitarán menos épocas para entrenarse. También podrían mejorar las predicciones, aunque no es tan común a menos que los datos sean muy dispersos."
      ]
    },
    {
      "cell_type": "markdown",
      "metadata": {
        "id": "8p6uB_6Ev2Gu"
      },
      "source": [
        "La técnica de **Dropout** consiste en \"bloquear\" un numero aleatorio de neuronas de una capa en cada iteración con el fin de hacer más complicado a la red neuronal el aprender patrones concretos para los datos con los que esta siendo entrenada. Esto consigue que la red se centre en patrones más generales, reduciendo las posibilidades de sobreentrenamiento y por lo tanto generalizando mejor para otros datos.\n",
        "\n",
        "\n",
        "---\n",
        "\n"
      ]
    },
    {
      "cell_type": "markdown",
      "metadata": {
        "id": "O-8nFEehG8xz"
      },
      "source": [
        "A continuación, construiremos el modelo 3 añadiendo estas capas para ver si realmente se aprecian mejoras:"
      ]
    },
    {
      "cell_type": "code",
      "metadata": {
        "colab": {
          "base_uri": "https://localhost:8080/"
        },
        "id": "K4_48ZQ9HGM3",
        "outputId": "593ffaa1-86eb-49ae-e66b-bd03cc2a1c83"
      },
      "source": [
        "# Esta variable es un callback los cuales explicaremos en el siguiente punto\n",
        "from tensorflow.keras.callbacks import EarlyStopping\n",
        "early_stopping = EarlyStopping(\n",
        "    patience=10,\n",
        "    min_delta=0.001,\n",
        "    restore_best_weights=True,\n",
        ")\n",
        "\n",
        "partial_x_train = train_images[:50000]\n",
        "x_val = train_images[50000:]\n",
        "\n",
        "partial_y_train = train_labels[:50000]\n",
        "y_val = train_labels[50000:]\n",
        "\n",
        "model3_2 = Sequential()\n",
        "model3_2.add(Conv2D(64,(7,7), padding=\"same\", activation='relu', input_shape=(28,28,1)))\n",
        "model3_2.add(MaxPooling2D((2,2)))\n",
        "model3_2.add(Dropout(0.3))\n",
        "model3_2.add(BatchNormalization())\n",
        "model3_2.add(Conv2D(128,(3,3), padding=\"same\",activation='relu'))\n",
        "model3_2.add(MaxPooling2D((2,2)))\n",
        "model3_2.add(Dropout(0.3))\n",
        "model3_2.add(BatchNormalization())\n",
        "model3_2.add(Flatten())\n",
        "model3_2.add(Dense(128, activation='relu'))\n",
        "model3_2.add(Dropout(0.3))\n",
        "model3_2.add(BatchNormalization())\n",
        "model3_2.add(Dense(10, activation='softmax'))\n",
        "\n",
        "# Compilamos el modelo: utilizamos el optimizador RMSProp y la función de \n",
        "# pérdida categorical_crossentropy.\n",
        "model3_2.compile(optimizer='adam', \n",
        "                loss='sparse_categorical_crossentropy',\n",
        "                metrics=['accuracy'])\n",
        "\n",
        "# Entrenamos el modelo\n",
        "model3_2.fit(partial_x_train, partial_y_train, \n",
        "    validation_data=(x_val, y_val),\n",
        "    batch_size=128,\n",
        "    epochs=100,\n",
        "    callbacks=[early_stopping]\n",
        "    )"
      ],
      "execution_count": null,
      "outputs": [
        {
          "output_type": "stream",
          "name": "stdout",
          "text": [
            "Epoch 1/100\n",
            "391/391 [==============================] - 8s 19ms/step - loss: 0.4729 - accuracy: 0.8298 - val_loss: 1.3096 - val_accuracy: 0.4730\n",
            "Epoch 2/100\n",
            "391/391 [==============================] - 7s 18ms/step - loss: 0.3246 - accuracy: 0.8816 - val_loss: 0.2848 - val_accuracy: 0.8935\n",
            "Epoch 3/100\n",
            "391/391 [==============================] - 7s 18ms/step - loss: 0.2906 - accuracy: 0.8935 - val_loss: 0.2741 - val_accuracy: 0.8989\n",
            "Epoch 4/100\n",
            "391/391 [==============================] - 7s 18ms/step - loss: 0.2632 - accuracy: 0.9025 - val_loss: 0.2420 - val_accuracy: 0.9063\n",
            "Epoch 5/100\n",
            "391/391 [==============================] - 7s 18ms/step - loss: 0.2457 - accuracy: 0.9093 - val_loss: 0.2450 - val_accuracy: 0.9069\n",
            "Epoch 6/100\n",
            "391/391 [==============================] - 7s 18ms/step - loss: 0.2324 - accuracy: 0.9151 - val_loss: 0.2283 - val_accuracy: 0.9156\n",
            "Epoch 7/100\n",
            "391/391 [==============================] - 7s 18ms/step - loss: 0.2217 - accuracy: 0.9173 - val_loss: 0.2272 - val_accuracy: 0.9143\n",
            "Epoch 8/100\n",
            "391/391 [==============================] - 7s 18ms/step - loss: 0.2114 - accuracy: 0.9207 - val_loss: 0.2241 - val_accuracy: 0.9199\n",
            "Epoch 9/100\n",
            "391/391 [==============================] - 7s 18ms/step - loss: 0.1985 - accuracy: 0.9255 - val_loss: 0.2107 - val_accuracy: 0.9204\n",
            "Epoch 10/100\n",
            "391/391 [==============================] - 7s 18ms/step - loss: 0.1928 - accuracy: 0.9283 - val_loss: 0.2306 - val_accuracy: 0.9152\n",
            "Epoch 11/100\n",
            "391/391 [==============================] - 7s 18ms/step - loss: 0.1844 - accuracy: 0.9305 - val_loss: 0.2087 - val_accuracy: 0.9235\n",
            "Epoch 12/100\n",
            "391/391 [==============================] - 7s 18ms/step - loss: 0.1772 - accuracy: 0.9328 - val_loss: 0.2469 - val_accuracy: 0.9140\n",
            "Epoch 13/100\n",
            "391/391 [==============================] - 7s 18ms/step - loss: 0.1727 - accuracy: 0.9344 - val_loss: 0.2096 - val_accuracy: 0.9224\n",
            "Epoch 14/100\n",
            "391/391 [==============================] - 7s 18ms/step - loss: 0.1668 - accuracy: 0.9371 - val_loss: 0.2008 - val_accuracy: 0.9271\n",
            "Epoch 15/100\n",
            "391/391 [==============================] - 7s 18ms/step - loss: 0.1562 - accuracy: 0.9404 - val_loss: 0.2145 - val_accuracy: 0.9233\n",
            "Epoch 16/100\n",
            "391/391 [==============================] - 7s 18ms/step - loss: 0.1533 - accuracy: 0.9422 - val_loss: 0.2049 - val_accuracy: 0.9263\n",
            "Epoch 17/100\n",
            "391/391 [==============================] - 7s 18ms/step - loss: 0.1513 - accuracy: 0.9428 - val_loss: 0.2279 - val_accuracy: 0.9204\n",
            "Epoch 18/100\n",
            "391/391 [==============================] - 7s 18ms/step - loss: 0.1460 - accuracy: 0.9440 - val_loss: 0.2027 - val_accuracy: 0.9257\n",
            "Epoch 19/100\n",
            "391/391 [==============================] - 7s 18ms/step - loss: 0.1413 - accuracy: 0.9466 - val_loss: 0.2092 - val_accuracy: 0.9215\n",
            "Epoch 20/100\n",
            "391/391 [==============================] - 7s 18ms/step - loss: 0.1375 - accuracy: 0.9478 - val_loss: 0.2015 - val_accuracy: 0.9280\n",
            "Epoch 21/100\n",
            "391/391 [==============================] - 7s 18ms/step - loss: 0.1303 - accuracy: 0.9500 - val_loss: 0.2168 - val_accuracy: 0.9273\n",
            "Epoch 22/100\n",
            "391/391 [==============================] - 7s 18ms/step - loss: 0.1285 - accuracy: 0.9516 - val_loss: 0.2090 - val_accuracy: 0.9301\n",
            "Epoch 23/100\n",
            "391/391 [==============================] - 7s 18ms/step - loss: 0.1251 - accuracy: 0.9534 - val_loss: 0.2089 - val_accuracy: 0.9256\n",
            "Epoch 24/100\n",
            "391/391 [==============================] - 7s 18ms/step - loss: 0.1204 - accuracy: 0.9541 - val_loss: 0.2074 - val_accuracy: 0.9282\n"
          ]
        },
        {
          "output_type": "execute_result",
          "data": {
            "text/plain": [
              "<keras.callbacks.History at 0x7fd563585d10>"
            ]
          },
          "metadata": {},
          "execution_count": 30
        }
      ]
    },
    {
      "cell_type": "code",
      "metadata": {
        "colab": {
          "base_uri": "https://localhost:8080/"
        },
        "id": "P6JV9loM6Slh",
        "outputId": "5a601b2c-d69a-4f57-9ed8-ef2fbfa38a25"
      },
      "source": [
        "#como la paciencia es 10 y ha entrenado 24 epocas la perdida minima en validacion ha sucedido en la epoca 14\n",
        "model3_2.compile(optimizer='adam', \n",
        "                loss='sparse_categorical_crossentropy',\n",
        "                metrics=['accuracy'])\n",
        "\n",
        "model3_2.fit(train_images, train_labels, \n",
        "    batch_size=128,\n",
        "    epochs=15\n",
        "    )\n",
        "\n",
        "model3_2.evaluate(test_images, test_labels)"
      ],
      "execution_count": null,
      "outputs": [
        {
          "output_type": "stream",
          "name": "stdout",
          "text": [
            "Epoch 1/15\n",
            "469/469 [==============================] - 9s 17ms/step - loss: 0.1790 - accuracy: 0.9336\n",
            "Epoch 2/15\n",
            "469/469 [==============================] - 8s 17ms/step - loss: 0.1686 - accuracy: 0.9373\n",
            "Epoch 3/15\n",
            "469/469 [==============================] - 8s 17ms/step - loss: 0.1636 - accuracy: 0.9379\n",
            "Epoch 4/15\n",
            "469/469 [==============================] - 8s 17ms/step - loss: 0.1570 - accuracy: 0.9413\n",
            "Epoch 5/15\n",
            "469/469 [==============================] - 8s 16ms/step - loss: 0.1497 - accuracy: 0.9430\n",
            "Epoch 6/15\n",
            "469/469 [==============================] - 8s 16ms/step - loss: 0.1454 - accuracy: 0.9454\n",
            "Epoch 7/15\n",
            "469/469 [==============================] - 8s 16ms/step - loss: 0.1424 - accuracy: 0.9455\n",
            "Epoch 8/15\n",
            "469/469 [==============================] - 8s 17ms/step - loss: 0.1379 - accuracy: 0.9475\n",
            "Epoch 9/15\n",
            "469/469 [==============================] - 8s 16ms/step - loss: 0.1328 - accuracy: 0.9497\n",
            "Epoch 10/15\n",
            "469/469 [==============================] - 8s 17ms/step - loss: 0.1286 - accuracy: 0.9514\n",
            "Epoch 11/15\n",
            "469/469 [==============================] - 8s 17ms/step - loss: 0.1285 - accuracy: 0.9509\n",
            "Epoch 12/15\n",
            "469/469 [==============================] - 8s 17ms/step - loss: 0.1238 - accuracy: 0.9522\n",
            "Epoch 13/15\n",
            "469/469 [==============================] - 8s 17ms/step - loss: 0.1215 - accuracy: 0.9530\n",
            "Epoch 14/15\n",
            "469/469 [==============================] - 8s 17ms/step - loss: 0.1183 - accuracy: 0.9547\n",
            "Epoch 15/15\n",
            "469/469 [==============================] - 8s 17ms/step - loss: 0.1131 - accuracy: 0.9565\n",
            "313/313 [==============================] - 2s 5ms/step - loss: 0.2242 - accuracy: 0.9287\n"
          ]
        },
        {
          "output_type": "execute_result",
          "data": {
            "text/plain": [
              "[0.2241816222667694, 0.9286999702453613]"
            ]
          },
          "metadata": {},
          "execution_count": 31
        }
      ]
    },
    {
      "cell_type": "markdown",
      "metadata": {
        "id": "x8cXgNG9HJ70"
      },
      "source": [
        "Como podemos ver, la precisión (*accuracy*) ha llegado a 93% en comparación al 90% obtenido en los modelos anteriores manteniendo un tiempo de entrenamiento similar. Podemos decir entonces que el uso de estas capas ha cumplido su objetivo. Ya que, se ha evitado el sobreentrenamiento y la red a convergido de manera mas rapida."
      ]
    },
    {
      "cell_type": "markdown",
      "metadata": {
        "id": "CFj1cTSe5foX"
      },
      "source": [
        "#10. Callbacks\n"
      ]
    },
    {
      "cell_type": "markdown",
      "metadata": {
        "id": "iC_kzfpg5pKu"
      },
      "source": [
        "Los ***callbacks*** son son objetos de python que nos permiten realizar acciones dentro de las distintas etapas de el entrenamiento de una red neuronal. Pueden ser usados de múltiples formas. Entre ellas está guardar el modelo en el disco duro de manera periódica y ver el interior del modelo durante el entrenamiento. Pero, una de las más interesantes, que hemos utilizado en el apartado anterior, es *early stoping*. Esta función es usada para, de manera rápida, buscar el punto en que nuestro modelo deja de aprender y así poder evitar el *overfitting* y *underfitting*."
      ]
    },
    {
      "cell_type": "markdown",
      "metadata": {
        "id": "x5asyIqA2uU8"
      },
      "source": [
        "# 11. Conclusiones\n"
      ]
    },
    {
      "cell_type": "markdown",
      "metadata": {
        "id": "W2bKvH2vSMEs"
      },
      "source": [
        "La Práctica 2 nos ha resultado más sencilla tras haber realizado la Práctica 1. Hemos aprendido sobre la implementación de las Redes de Neuronas Convolucionales con un ejemplo que ya conocíamos, lo que nos ha facilitado muchas cosas.\n",
        "\n",
        "El haber trabajado con tres modelos y dos variaciones, nos ha permitido centrarnos más en cada modelo. La práctica ha sido similar a la anterior, pero al trabajar con Redes de Neuronas Convolucionales, hemos tenido que aprender a interpretar las cosas de manera adecuada.\n",
        "\n",
        "Por ejemplo, la función *summary* ya sabíamos utilizarla, pero los valores y la interpretación que les teníamos que dar eran diferentes. \n",
        "\n",
        "Las variaciones del modelo 1 nos han resultado interesantes, ya que hemos observado una mejora en el modelo 1_2 al cambiar el número de épocas, y ningún cambio significativo en el modelo 1_t a pesar de haber cambiado la función de activación.\n",
        "\n",
        "En los datos de prueba, los tres modelos se comportan adecuadamente. Al evaluar la sexta imagen, todos aciertan. \n",
        "\n",
        "Cuando enfrentamos a nuestros modelos a las 14 primeras imágenes de los datos de prueba, vemos que todos obtienen relativamente buenos resultados, y que, igual que en la práctica anterior, se pueden confundir con prendas similares.\n",
        "\n",
        "Comparar ambas prácticas nos ha permitido aprender sobre el uso de Redes Convolucionales, y ver la diferencia entre unos resultados y otros.\n",
        "\n",
        "Por último, hemos aprendido qué son el *batch normalization*, la técnica de *dropout* y los *callbacks*, y cómo influyen al aplicarlos al modelo. *Dropout* nos ha permitido reducir el sobreentrenamiento para poder entrenar más el modelo, *batch normalization* ha permitido que el modelo converja de manera más rápida para no aumentar tanto el coste al entrenarlo más, y los *callbacks* nos han permitido determinar cuántas épocas debemos entrenar al modelo de manera mucho más simple y rápida que con la tecnica que usabamos antes. Esto es debido a que finaliza el entrenamiento mucho antes y no hace falta observar la gráfica para determinar las épocas óptimas.\n",
        "\n",
        "Al momento de seleccionar un modelo por encima del resto, nos quedamos con el tercer modelo propuesto ya que obtiene una precisión de 90% y una perdida de 0.26. Teniendo en cuenta todos los modelos nos quedariamos con el creado en el apartado 9. Ya que, en comparacion al modelo 3 obtiene un 93% de precisión y 0.22 de perdida.\n",
        "\n",
        "\n",
        "---"
      ]
    },
    {
      "cell_type": "markdown",
      "metadata": {
        "id": "25cxOpcgRmdv"
      },
      "source": [
        "Al igual que en la práctica anterior, para llevar a cabo estre proyecto hemos trabajado de manera conjunta. Solemos realizar trabajos juntos, por lo que estamos acostumbrados a que haya buena comunicación, siendo capaces de poder dividirnos el trabajo y aún así poder participar ambos en todas sus partes.\n",
        "\n",
        "Principalmente, Andrés Boullosa ha desarrollado el código, mientras que Cristina Velasco se ha centrado más en la parte de la memoria.\n",
        "\n",
        "Ambos nos hemos involucrado en las dos cosas, y ambos hemos realizado trabajo de investigación sobre los distintos temas requeridos (desde funciones específicas para el código hasta la correcta utilización de Markdown para una presentación adecuada), y ambos hemos revisado y entendido todas las partes, corrigiendo errores y realizando mejoras."
      ]
    },
    {
      "cell_type": "markdown",
      "metadata": {
        "id": "c7FfL9mARjoA"
      },
      "source": [
        "## Bibliografía"
      ]
    },
    {
      "cell_type": "markdown",
      "metadata": {
        "id": "NbQNg8FlSRzE"
      },
      "source": [
        "Además del [manual de Markdown](https://colab.research.google.com/notebooks/markdown_guide.ipynb) sugerido y los apuntes, documentos... etc. vistos en clase, hemos consultado las siguientes páginas webs:"
      ]
    },
    {
      "cell_type": "markdown",
      "metadata": {
        "id": "RMIYrSqj2x5X"
      },
      "source": [
        "[1] Freire, E., Silva, S. (23/11/2019). *Intro a las redes neuronales convolucionales*. Recuperado de https://bootcampai.medium.com/redes-neuronales-convolucionales-5e0ce960caf8 \n",
        "\n",
        "[2] Keras. (). *Flatten layer*. Recuperado de https://keras.io/api/layers/reshaping_layers/flatten/\n",
        "\n",
        "[3] Holbrook, R. (). *Dropout and Batch Normalization*. Recuperado de https://www.kaggle.com/ryanholbrook/dropout-and-batch-normalization \n",
        "\n",
        "[4] Holbrook, R. (). *Overfitting and Underfitting*. Recuperado de https://www.kaggle.com/ryanholbrook/overfitting-and-underfitting\n",
        "\n",
        "[5] TensorFlow. (). *Module: tf.keras.callbacks*. Recuperado de https://www.tensorflow.org/api_docs/python/tf/keras/callbacks\n",
        "\n",
        "[6] Kaggle. Intro to Deep Learning. Recuperado de https://www.kaggle.com/learn/intro-to-deep-learning "
      ]
    }
  ]
}